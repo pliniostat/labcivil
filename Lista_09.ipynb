{
 "cells": [
  {
   "cell_type": "markdown",
   "metadata": {
    "deletable": false,
    "editable": false
   },
   "source": [
    "<a href=\"http://www.unioeste.br\"><img src=\"https://www5.unioeste.br/portalunioeste/templates/tlpcampus/images/logoUnioeste.png\" align=\"right\"></a>\n",
    "\n",
    "<h1><center>Lista 09 - Regressão Linear Simples</center></h1>\n",
    "\n",
    "\n",
    "***\n",
    "<b> <font color='red'>ATENÇÃO!</font></b> sempre que este notebook for reaberto você deverá executar todas as células de código novamente. Cada célula **ativa** é executada pressionando o botão <b>Run</b> no menu da parte superior da tela, ou teclando <b>Ctrl+Enter</b>. Caso esteja utilizando um smartphone ou tablet, cada célula terá um botão ao lado para ser executada. Persistindo dúvidas, assista novamente o video de apresentação sobre notebooks.\n",
    "\n",
    "Caso necessite criar mais células de código, basta ir ao menu Insert.\n",
    "***\n",
    "\n",
    "### Exercício 1\n",
    "\n",
    "Os dados a seguir indicam o valor do aluguel e a idade de cinco casas."
   ]
  },
  {
   "cell_type": "code",
   "execution_count": null,
   "metadata": {
    "deletable": false,
    "editable": false
   },
   "outputs": [],
   "source": [
    "idade = c(10,13,5,7,20)\n",
    "valor = c(4,3,6,5,2)"
   ]
  },
  {
   "cell_type": "markdown",
   "metadata": {
    "deletable": false,
    "editable": false
   },
   "source": [
    "a) Encontre a reta de mínimos quadrados, supondo a relação $\\mathbb{E}(Y|x)=a+bx$."
   ]
  },
  {
   "cell_type": "code",
   "execution_count": null,
   "metadata": {},
   "outputs": [],
   "source": []
  },
  {
   "cell_type": "markdown",
   "metadata": {
    "deletable": false,
    "editable": false
   },
   "source": [
    "b) Faça o gráfico dos pontos e da reta ajustada. Você acha que o modelo adotado é razoável?"
   ]
  },
  {
   "cell_type": "code",
   "execution_count": null,
   "metadata": {},
   "outputs": [],
   "source": []
  },
  {
   "cell_type": "markdown",
   "metadata": {
    "deletable": false,
    "editable": false
   },
   "source": [
    "c) Interprete os parâmetros do modelo para este problema.\n",
    "\n",
    "### Exercício 2\n",
    "\n",
    "Um artigo em *Concrete Research (\"Near Surface Characteristics of Concrete: Intrinsic Permeability\", Vol. 41, 1989)* apresentou dados sobre a resistência à compressão ($N/mm^2$) e a permeabilidade intrínseca ($m^2\\times 10^{-7}$) de várias misturas e curas de concreto. Os dados são os seguintes: "
   ]
  },
  {
   "cell_type": "code",
   "execution_count": null,
   "metadata": {
    "deletable": false,
    "editable": false
   },
   "outputs": [],
   "source": [
    "dados1 = read.table(\"concreto.csv\", header = TRUE, dec = \",\", sep = \";\")\n",
    "attach(dados1)\n",
    "dados1"
   ]
  },
  {
   "cell_type": "markdown",
   "metadata": {
    "deletable": false,
    "editable": false
   },
   "source": [
    "a) Considere o modelo $\\mathbb{E}(Y|x)=a+bx$, em que $x$ é a resistência à compressão do concreto e $y$ é a permeabilidade instrínseca correspondente. Estime $a$ e $b$ por mínimos quadrados. Faça um gráfico do ajuste."
   ]
  },
  {
   "cell_type": "code",
   "execution_count": null,
   "metadata": {},
   "outputs": [],
   "source": []
  },
  {
   "cell_type": "markdown",
   "metadata": {
    "deletable": false,
    "editable": false
   },
   "source": [
    "b) Com base no modelo ajustado, qual seria a permeabilidade instrínseca de um concreto cuja resistência à compressão seja igual a 40?"
   ]
  },
  {
   "cell_type": "code",
   "execution_count": null,
   "metadata": {},
   "outputs": [],
   "source": []
  },
  {
   "cell_type": "markdown",
   "metadata": {
    "deletable": false,
    "editable": false
   },
   "source": [
    "c) Suponha agora que para uma resistência à compressão de $46,1$, a permeabilidade intrínseca observada foi de $3,7$. Qual o resíduo apresentado pelo modelo neste caso?"
   ]
  },
  {
   "cell_type": "code",
   "execution_count": null,
   "metadata": {},
   "outputs": [],
   "source": []
  },
  {
   "cell_type": "markdown",
   "metadata": {
    "deletable": false,
    "editable": false
   },
   "source": [
    "d) Obtenha um intervalo de confiança de 95% para os parâmetros do modelo."
   ]
  },
  {
   "cell_type": "code",
   "execution_count": null,
   "metadata": {},
   "outputs": [],
   "source": []
  },
  {
   "cell_type": "markdown",
   "metadata": {
    "deletable": false,
    "editable": false
   },
   "source": [
    "e) Obtenha um intervalo de confiança de 95% para permeabilidade intrínseca média quando a resistência à compressão for 40."
   ]
  },
  {
   "cell_type": "code",
   "execution_count": null,
   "metadata": {},
   "outputs": [],
   "source": []
  },
  {
   "cell_type": "markdown",
   "metadata": {
    "deletable": false,
    "editable": false
   },
   "source": [
    "f) Obtenha um intervalo de predição para prever um possível valor para a permeabilidade intrínseca quando a resistência à compressão for 40."
   ]
  },
  {
   "cell_type": "code",
   "execution_count": null,
   "metadata": {},
   "outputs": [],
   "source": []
  },
  {
   "cell_type": "markdown",
   "metadata": {
    "deletable": false,
    "editable": false
   },
   "source": [
    "g) Interprete os coeficientes do modelo.\n",
    "\n",
    "### Exercício 3\n",
    "\n",
    "Os dados a seguir apresentam algumas características de casas negociadas no Condado de Dutchess no estado de Nova Iorque. São elas:\n",
    "\n",
    "* **PV**: preço de venda (em milhares de dólares);\n",
    "* **PL**: preço de lista ou tabela (em milhares de dólares);\n",
    "* **AU**: área útil ou área construída (em pés quadrados);\n",
    "* **NC**: nº de cômodos;\n",
    "* **NQ**: nº de quartos;\n",
    "* **NB**: nº de banheiros;\n",
    "* **ID**: idade do imóvel;\n",
    "* **AT**: área do terreno (em acres);\n",
    "* **TX**: taxas ou impostos sobre a venda.\n",
    "\n",
    "Para resposnder às perguntas a seguir, utilize regressão linear simples."
   ]
  },
  {
   "cell_type": "code",
   "execution_count": null,
   "metadata": {
    "deletable": false,
    "editable": false
   },
   "outputs": [],
   "source": [
    "dados2 = read.table(\"imoveis.csv\", header = TRUE, dec = \",\", sep = \";\")\n",
    "attach(dados2)\n",
    "dados2"
   ]
  },
  {
   "cell_type": "markdown",
   "metadata": {
    "deletable": false,
    "editable": false
   },
   "source": [
    "a) Qual seria a sua estimativa para o preço médio de venda de um imóvel cujo preço de tabela seja igual a $200.000?"
   ]
  },
  {
   "cell_type": "code",
   "execution_count": null,
   "metadata": {},
   "outputs": [],
   "source": []
  },
  {
   "cell_type": "markdown",
   "metadata": {
    "deletable": false,
    "editable": false
   },
   "source": [
    "b) Qual o intervalo de variação de valores de vendas para casas cujo preço tabelado seja igual a $100.000?"
   ]
  },
  {
   "cell_type": "code",
   "execution_count": null,
   "metadata": {},
   "outputs": [],
   "source": []
  },
  {
   "cell_type": "markdown",
   "metadata": {
    "deletable": false,
    "editable": false
   },
   "source": [
    "c) Em qual faixa se encontram as taxas cobradas por casas vendidas cujo preço de tabela seja igual a $400.000? E a taxa média?"
   ]
  },
  {
   "cell_type": "code",
   "execution_count": null,
   "metadata": {},
   "outputs": [],
   "source": []
  },
  {
   "cell_type": "markdown",
   "metadata": {
    "deletable": false,
    "editable": false
   },
   "source": [
    "d) Qual o desvio padrão das estimativas para os parâmetros do modelo adotado no item (a)?"
   ]
  },
  {
   "cell_type": "code",
   "execution_count": null,
   "metadata": {},
   "outputs": [],
   "source": []
  },
  {
   "cell_type": "markdown",
   "metadata": {
    "deletable": false,
    "editable": false
   },
   "source": [
    "e) Obtenha um intervalo de confiança de 97% para os parâmetros do modelo adotado no item (a)."
   ]
  },
  {
   "cell_type": "code",
   "execution_count": null,
   "metadata": {},
   "outputs": [],
   "source": []
  },
  {
   "cell_type": "markdown",
   "metadata": {
    "deletable": false,
    "editable": false
   },
   "source": [
    "### Exercício 4\n",
    "\n",
    "Os dados a seguir apresentam dados climáticos em graus Fahrenheit num dado ano em um dado local dos Estados Unidos:\n",
    "\n",
    "* data da coleta (01 de janeiro a 31 de janeiro);\n",
    "* **maxima_real**: temperatura máxima real registrada;\n",
    "* **maxima_prev_1**: temperatura máxima prevista com 1 dia;\n",
    "* **maxima_prev_3**: temperatura máxima prevista com 3 dias;\n",
    "* **maxima_prev_5**: temperatura máxima prevista com 5 dias;\n",
    "* **precipitacao**: volume de chuva registrado no dia (em polegadas).\n",
    "\n",
    "Para responder às perguntas a seguir, utilize regressão linear simples."
   ]
  },
  {
   "cell_type": "code",
   "execution_count": null,
   "metadata": {
    "deletable": false,
    "editable": false
   },
   "outputs": [],
   "source": [
    "dados3 = read.table(\"clima.csv\", header = TRUE, dec = \",\", sep = \";\")\n",
    "attach(dados3)\n",
    "dados3"
   ]
  },
  {
   "cell_type": "markdown",
   "metadata": {
    "deletable": false,
    "editable": false
   },
   "source": [
    "a) Qual a previsão da temperatura máxima real quando a máxima prevista com 5 dias é de 28°?"
   ]
  },
  {
   "cell_type": "code",
   "execution_count": null,
   "metadata": {},
   "outputs": [],
   "source": []
  },
  {
   "cell_type": "markdown",
   "metadata": {
    "deletable": false,
    "editable": false
   },
   "source": [
    "b) Qual a previsão da temperatura máxima real quando a máxima prevista com 3 dias é de 28°?"
   ]
  },
  {
   "cell_type": "code",
   "execution_count": null,
   "metadata": {},
   "outputs": [],
   "source": []
  },
  {
   "cell_type": "markdown",
   "metadata": {
    "deletable": false,
    "editable": false
   },
   "source": [
    "c) Qual das duas previsões é mais confiável? Justifique."
   ]
  },
  {
   "cell_type": "code",
   "execution_count": null,
   "metadata": {},
   "outputs": [],
   "source": []
  },
  {
   "cell_type": "markdown",
   "metadata": {
    "deletable": false,
    "editable": false
   },
   "source": [
    "### Exercício 5\n",
    "\n",
    "Considere os dados abaixo:"
   ]
  },
  {
   "cell_type": "code",
   "execution_count": 1,
   "metadata": {
    "deletable": false,
    "editable": false
   },
   "outputs": [],
   "source": [
    "x = c(2,3,7,9,15,25,50,80,200,500)\n",
    "y = c(1.91,1.99,1.76,1.77,1.69,1.52,1.22,0.94,0.36,0.00)"
   ]
  },
  {
   "cell_type": "markdown",
   "metadata": {
    "deletable": false,
    "editable": false
   },
   "source": [
    "Um modelo de regressão linear simples (RLS) é adequado para modelar esse conjunto de dados? Justifique. Caso não seja, e seu objetivo seja apenas a predição, você consegue propor uma alternativa que permita utilizar RLS? Em caso afirmativo, apresente o modelo para esses dados."
   ]
  },
  {
   "cell_type": "code",
   "execution_count": null,
   "metadata": {},
   "outputs": [],
   "source": []
  },
  {
   "cell_type": "code",
   "execution_count": null,
   "metadata": {},
   "outputs": [],
   "source": []
  },
  {
   "cell_type": "code",
   "execution_count": null,
   "metadata": {},
   "outputs": [],
   "source": []
  }
 ],
 "metadata": {
  "kernelspec": {
   "display_name": "R",
   "language": "R",
   "name": "ir"
  },
  "language_info": {
   "codemirror_mode": "r",
   "file_extension": ".r",
   "mimetype": "text/x-r-source",
   "name": "R",
   "pygments_lexer": "r",
   "version": "3.6.1"
  }
 },
 "nbformat": 4,
 "nbformat_minor": 4
}
