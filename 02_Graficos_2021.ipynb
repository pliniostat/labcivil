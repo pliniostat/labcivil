{
 "cells": [
  {
   "cell_type": "markdown",
   "metadata": {
    "deletable": false,
    "editable": false
   },
   "source": [
    "<a href=\"http://www.unioeste.br\"><img src=\"https://www5.unioeste.br/portalunioeste/templates/tlpcampus/images/logoUnioeste.png\" align=\"right\"></a>\n",
    "\n",
    "<h1><center>Atividade Prática em R - Representações Gráficas</center></h1>\n",
    "\n",
    "<center>Prof.Dr. Plinio Andrade</center>\n",
    "\n",
    "Nesta atividade prática você aprenderá a utilizar o R para obter:\n",
    "\n",
    "* diagramas de setores;\n",
    "* gráficos de barras;\n",
    "* histogramas;\n",
    "* diagramas de dispersão.\n",
    "\n",
    "<b> <font color='red'>ATENÇÃO!</font></b> sempre que este arquivo for reaberto você deverá executar todas as células de código novamente. Cada célula ativa é executada pressionando o botão <b>Run</b> no menu ou teclando <b>Ctrl+Enter</b> (persistindo dúvidas, assista a videoaula de apresentação sobre notebooks).\n",
    "\n",
    "Caso necessite criar mais células de código, basta ir ao menu Insert.\n",
    "\n",
    "***\n",
    "\n",
    "## 1) Sobre os dados\n",
    "\n",
    "Novamente, utilizaremos nesta prática os dados de Bussab & Morettin (2006). Vamos armazená-los na memória executando a célula a seguir:"
   ]
  },
  {
   "cell_type": "code",
   "execution_count": null,
   "metadata": {
    "deletable": false,
    "editable": false
   },
   "outputs": [],
   "source": [
    "arquivo = url('https://www.ime.usp.br/~pam/dados.RData') # armazenamos o endereço eletrônico numa variável chamada arquivo\n",
    "load(arquivo)                                            # carregando o arquivo\n",
    "attach(tab2_1)                                           # acessando as variáveis"
   ]
  },
  {
   "cell_type": "markdown",
   "metadata": {
    "deletable": false,
    "editable": false
   },
   "source": [
    "## 2) Representações Gráficas\n",
    "Vamos conhecer agora algumas funções para represendar dados graficamente. Utilizaremos os mesmos exemplos apresentados em aula.\n",
    "\n",
    "### 2.1) Diagrama de setores (pizza)\n",
    "Para esse tipo de gráfico, devemos coletar as frequências (absolutas, relativas, ou porcentagens) da variável de interesse e utilizar a função ```pie()```. Vamos considerar a variável **grau de instrução**. Execute a célula a seguir:"
   ]
  },
  {
   "cell_type": "code",
   "execution_count": null,
   "metadata": {
    "deletable": false,
    "editable": false
   },
   "outputs": [],
   "source": [
    "ni = table(grau_instrucao) # armazenando as frequências absolutas da variável grau de instrução num objeto \"ni\"\n",
    "pie(ni)                    # obtendo o gráfico "
   ]
  },
  {
   "cell_type": "code",
   "execution_count": null,
   "metadata": {
    "deletable": false,
    "editable": false
   },
   "outputs": [],
   "source": [
    "pie(table(grau_instrucao)) # comando alternativo (mais direto)"
   ]
  },
  {
   "cell_type": "markdown",
   "metadata": {
    "deletable": false,
    "editable": false
   },
   "source": [
    "### Exercício 1\n",
    "Obtenha um gráfico de pizza simples ou detalhado para a variável **região de procedência**."
   ]
  },
  {
   "cell_type": "code",
   "execution_count": null,
   "metadata": {},
   "outputs": [],
   "source": []
  },
  {
   "cell_type": "code",
   "execution_count": null,
   "metadata": {},
   "outputs": [],
   "source": []
  },
  {
   "cell_type": "code",
   "execution_count": null,
   "metadata": {},
   "outputs": [],
   "source": []
  },
  {
   "cell_type": "markdown",
   "metadata": {
    "deletable": false,
    "editable": false
   },
   "source": [
    "### 2.2) Gráfico de Barras\n",
    "Para construir um gráfico de barras no R devemos utilizar a função ```barplot()```. O argumento da função receberá novamente as frequências da variável em estudo. Considere novamente a variável **grau de instrução** (lembre-se que as frequências absolutas já foram armazenadas num objeto \"ni\" quando o gráfico de pizza foi construído). Execute a célula a seguir:"
   ]
  },
  {
   "cell_type": "code",
   "execution_count": null,
   "metadata": {
    "deletable": false,
    "editable": false
   },
   "outputs": [],
   "source": [
    "barplot(ni)"
   ]
  },
  {
   "cell_type": "markdown",
   "metadata": {
    "deletable": false,
    "editable": false
   },
   "source": [
    "Este gráfico pode ser disposto na horizontal com o argumento ```horiz = TRUE```. Execute a célula a seguir:"
   ]
  },
  {
   "cell_type": "code",
   "execution_count": null,
   "metadata": {
    "deletable": false,
    "editable": false
   },
   "outputs": [],
   "source": [
    "barplot(ni, horiz = TRUE)"
   ]
  },
  {
   "cell_type": "markdown",
   "metadata": {
    "deletable": false,
    "editable": false
   },
   "source": [
    "Vamos agora construir um gráfico de barras para a variável **salário**. Lembre-se que neste caso devemos construir os intervalos de classe (como vimos no roteiro anterior):"
   ]
  },
  {
   "cell_type": "code",
   "execution_count": null,
   "metadata": {
    "deletable": false,
    "editable": false
   },
   "outputs": [],
   "source": [
    "int = cut(salario, c(4,8,12,16,20,24), right=FALSE) # criando os intervalos de classe\n",
    "sal = table(int)                                    # criando a distribuição de frequências de cada faixa salarial\n",
    "barplot(sal)                                        # imprimindo o gráfico de barras"
   ]
  },
  {
   "cell_type": "markdown",
   "metadata": {
    "deletable": false,
    "editable": false
   },
   "source": [
    "### Exercício 2\n",
    "Construa um gráfico de barras para as variáveis **número de filhos**. Compare com o apresentado em aula."
   ]
  },
  {
   "cell_type": "code",
   "execution_count": null,
   "metadata": {},
   "outputs": [],
   "source": []
  },
  {
   "cell_type": "code",
   "execution_count": null,
   "metadata": {},
   "outputs": [],
   "source": []
  },
  {
   "cell_type": "code",
   "execution_count": null,
   "metadata": {},
   "outputs": [],
   "source": []
  },
  {
   "cell_type": "markdown",
   "metadata": {
    "deletable": false,
    "editable": false
   },
   "source": [
    "### 2.3) Histogramas\n",
    "A construção de histogramas é muito simples e direta no R. A escolha dos intervalos de classe é automática, embora seja possível escolher arbitrariamente se necessário. Vamos construir um histograma para a variável **salário** considerando suas versões em frequência absoluta e relativa. Vamos também construir uma versão com os mesmos intervalos de classe que foram escolhidos na aula.\n",
    "\n",
    "### (i) Histograma com densidade de frequência absoluta (padrão)\n",
    "Um histograma é construído por meio da função ```hist()```. Em sua forma mais simples, basta informar o rótulo da variável quantitativa desejada. Execute a célula a seguir:"
   ]
  },
  {
   "cell_type": "code",
   "execution_count": null,
   "metadata": {
    "deletable": false,
    "editable": false
   },
   "outputs": [],
   "source": [
    "hist(salario)"
   ]
  },
  {
   "cell_type": "markdown",
   "metadata": {
    "deletable": false,
    "editable": false
   },
   "source": [
    "### (ii) Histograma com densidade de frequência relativa\n",
    "\n",
    "Neste caso, devemos informar também o argumento ```freq = FALSE```. Execute a célula a seguir e observe o que acontecerá com o eixo vertical (y):"
   ]
  },
  {
   "cell_type": "code",
   "execution_count": null,
   "metadata": {
    "deletable": false,
    "editable": false
   },
   "outputs": [],
   "source": [
    "hist(salario, freq = FALSE)"
   ]
  },
  {
   "cell_type": "markdown",
   "metadata": {
    "deletable": false,
    "editable": false
   },
   "source": [
    "### (iii) Histograma com intervalos de classe arbitrários\n",
    "\n",
    "Independente de ser um histograma com densidade de frequência absoluta ou relativa, neste caso devemos informar o argumento ```breaks```, especificando os extremos de cada intervalo de classe. Execute a célula a seguir para obter o mesmo histograma apresentado em aula para variável salário (para não complicar demais, os eixos não estão com a mesma formatação dos slides e nenhuma cor foi aplicada, mas trata-se do mesmo histograma):"
   ]
  },
  {
   "cell_type": "code",
   "execution_count": null,
   "metadata": {
    "deletable": false,
    "editable": false
   },
   "outputs": [],
   "source": [
    "hist(salario, freq = FALSE, breaks = c(4,8,12,16,20,24))"
   ]
  },
  {
   "cell_type": "markdown",
   "metadata": {
    "deletable": false,
    "editable": false
   },
   "source": [
    "### Exercício 3\n",
    "Obtenha um histograma para a variável **número de filhos**. A formatação é opcional."
   ]
  },
  {
   "cell_type": "code",
   "execution_count": null,
   "metadata": {},
   "outputs": [],
   "source": []
  },
  {
   "cell_type": "code",
   "execution_count": null,
   "metadata": {},
   "outputs": [],
   "source": []
  },
  {
   "cell_type": "code",
   "execution_count": null,
   "metadata": {},
   "outputs": [],
   "source": []
  },
  {
   "cell_type": "markdown",
   "metadata": {
    "deletable": false,
    "editable": false
   },
   "source": [
    "### 2.4) Diagramas de dispersão\n",
    "\n",
    "A função ```plot()``` do R possui diversas utilidades, uma delas é a de produzir diagramas de dispersão. Basta informar as variáveis que serão confrontadas. A primeira variável a ser informada deverá estar no eixo horizontal (x), enquanto a segunda variável informada estará no eixo vertical (y). Vamos ilustrar seu emprego obtendo os gráficos apresentados em aula.\n",
    "\n",
    "### (i) Variável salário versus variável idade (em anos)\n",
    "Execute a célula a seguir:"
   ]
  },
  {
   "cell_type": "code",
   "execution_count": null,
   "metadata": {
    "deletable": false,
    "editable": false
   },
   "outputs": [],
   "source": [
    "plot(idade_anos, salario)"
   ]
  },
  {
   "cell_type": "markdown",
   "metadata": {
    "deletable": false,
    "editable": false
   },
   "source": [
    "### (ii) Renda bruta mensal versus porcentagem da renda gasta com saúde\n",
    "Vamos adicionar manualmente os dados da tabela apresentada (lembre-se que no R as casas decimais são separadas por ponto enquanto a vírgula é utilizada como separador). Execute a célula a seguir:"
   ]
  },
  {
   "cell_type": "code",
   "execution_count": null,
   "metadata": {
    "deletable": false,
    "editable": false
   },
   "outputs": [],
   "source": [
    "x = c(12,16,18,20,28,30,40,48,50,54)             # armazenando os dados da variável X\n",
    "y = c(7.2,7.4,7.0,6.5,6.6,6.7,6.0,5.6,6.0,5.5)   # armazenando os dados da variável Y"
   ]
  },
  {
   "cell_type": "markdown",
   "metadata": {
    "deletable": false,
    "editable": false
   },
   "source": [
    "Agora podemos obter o diagrama de dispersão informando as variáveis armazenadas. Execute a célula a seguir:"
   ]
  },
  {
   "cell_type": "code",
   "execution_count": null,
   "metadata": {
    "deletable": false,
    "editable": false
   },
   "outputs": [],
   "source": [
    "plot(x,y)"
   ]
  },
  {
   "cell_type": "markdown",
   "metadata": {
    "deletable": false,
    "editable": false
   },
   "source": [
    "### (iii) Grau de instrução versus salário\n",
    "O procedimento é análogo, ou seja, basta informar cada variável na função ```plot()```. No entanto, por confrontar uma variável qualitativa com uma quantitativa, o gráfico será diferente. Execute a célula a seguir:"
   ]
  },
  {
   "cell_type": "code",
   "execution_count": null,
   "metadata": {
    "deletable": false,
    "editable": false
   },
   "outputs": [],
   "source": [
    "plot(grau_instrucao, salario)"
   ]
  },
  {
   "cell_type": "markdown",
   "metadata": {
    "deletable": false,
    "editable": false
   },
   "source": [
    "### Exercício 4\n",
    "Obtenha um diagrama de dispersão para as variáveis **região de procedência** (eixo x) e **salário** (eixo y). Tenta responder a seguinte pergunta: Os dados sugerem que a região de procedência influencia na quantidade de salários ganho?"
   ]
  },
  {
   "cell_type": "code",
   "execution_count": null,
   "metadata": {},
   "outputs": [],
   "source": []
  },
  {
   "cell_type": "code",
   "execution_count": null,
   "metadata": {},
   "outputs": [],
   "source": []
  },
  {
   "cell_type": "code",
   "execution_count": null,
   "metadata": {},
   "outputs": [],
   "source": []
  },
  {
   "cell_type": "markdown",
   "metadata": {
    "deletable": false,
    "editable": false
   },
   "source": [
    "## Parabéns, você concluiu este roteiro prático!\n",
    "\n",
    "<b> <font color='red'>ATENÇÃO! Imprima o conteúdo deste notebook para enventuais consultas futuras, pois assim que o navegador for fechado os códigos serão apagados. Para imprimir, tecle Ctrl+P e salve como um arquivo PDF.</font></b>"
   ]
  }
 ],
 "metadata": {
  "kernelspec": {
   "display_name": "R",
   "language": "R",
   "name": "ir"
  },
  "language_info": {
   "codemirror_mode": "r",
   "file_extension": ".r",
   "mimetype": "text/x-r-source",
   "name": "R",
   "pygments_lexer": "r",
   "version": "3.6.1"
  }
 },
 "nbformat": 4,
 "nbformat_minor": 4
}
