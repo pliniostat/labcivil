{
 "cells": [
  {
   "cell_type": "markdown",
   "metadata": {
    "deletable": false,
    "editable": false
   },
   "source": [
    "<a href=\"http://www.unioeste.br\"><img src=\"https://www5.unioeste.br/portalunioeste/templates/tlpcampus/images/logoUnioeste.png\" align=\"right\"></a>\n",
    "\n",
    "<h1><center>Atividade Prática em R - Distribuições de Frequências</center></h1>\n",
    "\n",
    "<center>Prof.Dr. Plinio Andrade</center>"
   ]
  },
  {
   "cell_type": "markdown",
   "metadata": {
    "deletable": false,
    "editable": false
   },
   "source": [
    "### Nesta atividade prática você aprenderá a utilizar o R para:\n",
    "\n",
    "* Carregar um conjunto de dados hospedados na internet;\n",
    "* visualizar e acessar objetos que estão armazenados na memória do R;\n",
    "* visualizar um dataframe e acessar partes específicas do mesmo;\n",
    "* armazenar dados em um vetor;\n",
    "* construir distribuições de frequências.\n",
    "\n",
    "<b> <font color='red'>ATENÇÃO!</font></b> sempre que este notebook for reaberto você deverá executar todas as células de código novamente. Cada célula **ativa** é executada pressionando o botão <b>Run</b> no menu da parte superior da tela, ou teclando <b>Ctrl+Enter</b>. Caso esteja utilizando um smartphone ou tablet, cada célula terá um botão ao lado para ser executada. Persistindo dúvidas, assista novamente o video de apresentação sobre notebooks.\n",
    "\n",
    "***\n",
    "\n",
    "## 1) Sobre os dados\n",
    "\n",
    "Utilizaremos nesta prática os dados de Bussab & Morettin (2006), disponibilizados na página de um dos autores ([clique aqui](https://www.ime.usp.br/~pam/EstBas.html)). Todos os cojuntos de dados utilizados no livro foram reunidos em um único arquivo do R chamado \"dados.RData\" (também disponível nos formatos .PDF e .xls). Você não precisa baixar o arquivo, pois este será baixado diretamente do site dos autores por meio do seguinte comando:"
   ]
  },
  {
   "cell_type": "code",
   "execution_count": null,
   "metadata": {
    "deletable": false,
    "editable": false
   },
   "outputs": [],
   "source": [
    "arquivo = url('https://www.ime.usp.br/~pam/dados.RData') # armazenamos o endereço eletrônico numa variável chamada arquivo\n",
    "load(arquivo)                                            # carregamos o arquivo na memória."
   ]
  },
  {
   "cell_type": "markdown",
   "metadata": {
    "deletable": false,
    "editable": false
   },
   "source": [
    "Podemos agora listar todos os objetos armazenados na memória com a função ls(). Execute a célula a seguir:"
   ]
  },
  {
   "cell_type": "code",
   "execution_count": null,
   "metadata": {
    "deletable": false,
    "editable": false
   },
   "outputs": [],
   "source": [
    "ls()"
   ]
  },
  {
   "cell_type": "markdown",
   "metadata": {
    "deletable": false,
    "editable": false
   },
   "source": [
    "Perceba que existem vários objetos que foram adicionados. Vamos visualizar o objeto \"tab2_1\". Execute a célula a seguir:"
   ]
  },
  {
   "cell_type": "code",
   "execution_count": null,
   "metadata": {
    "deletable": false,
    "editable": false
   },
   "outputs": [],
   "source": [
    "tab2_1"
   ]
  },
  {
   "cell_type": "markdown",
   "metadata": {
    "deletable": false,
    "editable": false
   },
   "source": [
    "A tabela impressa está formatada como um *dataframe*, isto é, um objeto que possui linhas e colunas (neste caso 36 linhas e 8 colunas). Trata-se da Tabela 2.1 de Bussab & Morettin (2006), que fornece informações socioeconômicas sobre empregados da seção de orçamentos da Cia. MB. Note que cada coluna possui um rótulo, por exemplo, a variável <b>grau de instrução</b> está rotulada como <b>grau_instrucao</b>, a variável **região de procedência** está rotulada como **reg_procedencia**, e assim por diante. Suponha que estamos interessado na variável **grau de instrução**. Para acessá-la, devemos escrever o nome do objeto, seguido do símbolo \"$\", seguido do nome da coluna desejada, como mostra a célula a seguir (que deverá ser executada):"
   ]
  },
  {
   "cell_type": "code",
   "execution_count": null,
   "metadata": {
    "deletable": false,
    "editable": false
   },
   "outputs": [],
   "source": [
    "tab2_1$grau_instrucao  # acessando o conteúdo da tabela tab2_1 referente à coluna grau_instrucao"
   ]
  },
  {
   "cell_type": "markdown",
   "metadata": {
    "deletable": false,
    "editable": false
   },
   "source": [
    "Uma forma mais prática de selecionar uma variável é utilizando o comando attach(), tornando-as acessíveis apenas digitando o nome delas. Execute a célula a seguir:"
   ]
  },
  {
   "cell_type": "code",
   "execution_count": null,
   "metadata": {
    "deletable": false,
    "editable": false
   },
   "outputs": [],
   "source": [
    "attach(tab2_1)"
   ]
  },
  {
   "cell_type": "markdown",
   "metadata": {
    "deletable": false,
    "editable": false
   },
   "source": [
    "Deste modo, podemos simplesmente digitar o nome da coluna da tabela para acessar seu conteúdo. Faça isso para a variável **grau de instrução** executando a célula a seguir:"
   ]
  },
  {
   "cell_type": "code",
   "execution_count": null,
   "metadata": {
    "deletable": false,
    "editable": false
   },
   "outputs": [],
   "source": [
    "grau_instrucao"
   ]
  },
  {
   "cell_type": "markdown",
   "metadata": {
    "deletable": false,
    "editable": false
   },
   "source": [
    "Podemos armazenar os dados referentes a cada variável em um novo vetor para simplificar o acesso e não precisar ficar digitando nomes longos das variáveis. Por exemplo, vamos armazenar os dados da variável **grau de instrução** num vetor chamado \"gi\". Você poderia escolher qualquer outro nome que fosse fácil de lembrar, mas vamos manter gi por enquanto. Execute a célula a seguir:"
   ]
  },
  {
   "cell_type": "code",
   "execution_count": null,
   "metadata": {
    "deletable": false,
    "editable": false
   },
   "outputs": [],
   "source": [
    "gi = grau_instrucao # definindo a variável que será armazenada na memória\n",
    "gi                  # imprimindo os valores da variável"
   ]
  },
  {
   "cell_type": "markdown",
   "metadata": {
    "deletable": false,
    "editable": false
   },
   "source": [
    "O comando lenght() fornece o número de elementos de um vetor de dados. Execute a célula a seguir:"
   ]
  },
  {
   "cell_type": "code",
   "execution_count": null,
   "metadata": {
    "deletable": false,
    "editable": false
   },
   "outputs": [],
   "source": [
    "length(gi)  # vamos ver quantos elementos o vetor gi criado possui (neste caso 36)"
   ]
  },
  {
   "cell_type": "markdown",
   "metadata": {
    "deletable": false,
    "editable": false
   },
   "source": [
    "Por outro lado, o comando dim() fornece a dimensão da tabela de dados. Vamos utilizar este comando para verificar, sem precisar contar, quantas linhas e quantas colunas a Tabela 2.1 possui. Execute a célula a seguir:"
   ]
  },
  {
   "cell_type": "code",
   "execution_count": null,
   "metadata": {
    "deletable": false,
    "editable": false
   },
   "outputs": [],
   "source": [
    "dim(tab2_1)  # 36 linhas por 8 colunas."
   ]
  },
  {
   "cell_type": "markdown",
   "metadata": {
    "deletable": false,
    "editable": false
   },
   "source": [
    "***\n",
    "### Exercício 1 \n",
    "Utilize a célula a seguir para imprimir na tela o conteúdo da variável <b>idade</b> em anos."
   ]
  },
  {
   "cell_type": "code",
   "execution_count": null,
   "metadata": {},
   "outputs": [],
   "source": []
  },
  {
   "cell_type": "markdown",
   "metadata": {
    "deletable": false,
    "editable": false
   },
   "source": [
    "***\n",
    "## 2) Distribuição de frequências\n",
    "\n",
    "Vamos agora obter tabelas de distribuição de frequências.\n",
    "\n",
    "### 2.1) Variável Qualitativa ou Quantitativa Discreta\n",
    "\n",
    "Recorde que a variável **grau de instrução** é uma variável qualitativa ordinal. Vamos obter sua distribuição de frequências, isto é, uma tabela que informa a frequência de cada modalidade (neste caso ensino fundamental, médio e superior). O comando table() apresenta as frequências absolutas de cada modalidade da variável, eliminando a necessidade de contar manualmente as frequências por inspeção visual da tabela de dados. Vamos armazenar essas frequências num vetor \"ni\". Execute a célula a seguir:"
   ]
  },
  {
   "cell_type": "code",
   "execution_count": null,
   "metadata": {
    "deletable": false,
    "editable": false
   },
   "outputs": [],
   "source": [
    "ni = table(gi) # armazenando as frequências absolutas no vetor ni para uso posterior\n",
    "ni             # visualização do vetor ni"
   ]
  },
  {
   "cell_type": "markdown",
   "metadata": {
    "deletable": false,
    "editable": false
   },
   "source": [
    "Pelo impresso podemos concluir que dentre os 36 funcionários, 12 possuem ensino fundamental, 18 possuem ensino médio e 6 funcionários possuem ensino superior. Recorde que a frequência relativa de cada modalidade é definida pela divisão entre a frequência absoluta correspondente e o número total de observações (funcionários) presentes nos dados. A célula a seguir mostra como esse cálculo simples é feito. Vamos armazenar as frequências relativas num vetor chamado \"fi\". Execute a célula a seguir:"
   ]
  },
  {
   "cell_type": "code",
   "execution_count": null,
   "metadata": {
    "deletable": false,
    "editable": false
   },
   "outputs": [],
   "source": [
    "fi = ni/36 # armazenando as frequências relativas no vetor fi para uso posterior\n",
    "fi         # visualização do vetor fi"
   ]
  },
  {
   "cell_type": "markdown",
   "metadata": {
    "deletable": false,
    "editable": false
   },
   "source": [
    "Se quisermos as frequências relativas em porcentagens, basta multiplicar o resultado obtido anteriormente por 100. Vamos armazenar essas porcentagens em um vetor chamado \"p_fi\". Execute a célula a seguir:"
   ]
  },
  {
   "cell_type": "code",
   "execution_count": null,
   "metadata": {
    "deletable": false,
    "editable": false
   },
   "outputs": [],
   "source": [
    "p_fi = 100*fi              # obtendo as porcentagens de cada modalidade e armazenando no vetor p_fi\n",
    "p_fi                       # visualizando o vetor p_fi"
   ]
  },
  {
   "cell_type": "markdown",
   "metadata": {
    "deletable": false,
    "editable": false
   },
   "source": [
    "Podemos somar todas as frequências por meio da função sum(). Execute as células abaixo e observe os resultados:"
   ]
  },
  {
   "cell_type": "code",
   "execution_count": null,
   "metadata": {
    "deletable": false,
    "editable": false
   },
   "outputs": [],
   "source": [
    "sum(ni)"
   ]
  },
  {
   "cell_type": "code",
   "execution_count": null,
   "metadata": {
    "deletable": false,
    "editable": false
   },
   "outputs": [],
   "source": [
    "sum(fi)"
   ]
  },
  {
   "cell_type": "code",
   "execution_count": null,
   "metadata": {
    "deletable": false,
    "editable": false
   },
   "outputs": [],
   "source": [
    "sum(p_fi)"
   ]
  },
  {
   "cell_type": "markdown",
   "metadata": {
    "deletable": false,
    "editable": false
   },
   "source": [
    "Como esperado, a soma das frequências absolutas deve ser igual ao número total de funcionários, enquanto a soma das frequências relativas deve ser igual a 1 (100% se for em porcentagem). \n",
    "\n",
    "Por fim, se for de nosso interesse reunir tudo em uma tabela, podemos utilizar um editor de texto ou planilha eletrônica. Isso também pode ser feito no R por meio do comando cbind(), que serve para dispor vetores em colunas. Execute a célula a seguir:"
   ]
  },
  {
   "cell_type": "code",
   "execution_count": null,
   "metadata": {
    "deletable": false,
    "editable": false
   },
   "outputs": [],
   "source": [
    "cbind(ni,fi,p_fi)"
   ]
  },
  {
   "cell_type": "markdown",
   "metadata": {
    "deletable": false,
    "editable": false
   },
   "source": [
    "**Opcional:** Para completar a tabela de distribuição de frequências, devemos adicionar uma linha com as somas das frequências. Por exemplo, o comando c(ni, sum(ni)) irá concatenar os dados do vetor ni com sua soma sum(ni). O mesmo é feito para os vetores fi e p_fi. Execute a célula a seguir:"
   ]
  },
  {
   "cell_type": "code",
   "execution_count": null,
   "metadata": {
    "deletable": false,
    "editable": false
   },
   "outputs": [],
   "source": [
    "freq_absoluta           = c(ni,sum(ni))     # concatenando o vetor ni de frequências absolutas com a soma de seus valores\n",
    "freq_relativa           = c(fi,sum(fi))     # o mesmo para fi\n",
    "porcentagem             = c(p_fi,sum(p_fi)) # o mesmo para p_fi         "
   ]
  },
  {
   "cell_type": "markdown",
   "metadata": {
    "deletable": false,
    "editable": false
   },
   "source": [
    "**Opcional:** Vamos agora imprimir a nova tabela. Execute o célula a seguir:"
   ]
  },
  {
   "cell_type": "code",
   "execution_count": null,
   "metadata": {
    "deletable": false,
    "editable": false
   },
   "outputs": [],
   "source": [
    "cbind(freq_absoluta, freq_relativa, porcentagem)"
   ]
  },
  {
   "cell_type": "markdown",
   "metadata": {
    "deletable": false,
    "editable": false
   },
   "source": [
    "**Opcional:** Observe que a linha de totais não possui nome algum. Podemos adicionar um nome por meio do seguinte comando:"
   ]
  },
  {
   "cell_type": "code",
   "execution_count": null,
   "metadata": {
    "deletable": false,
    "editable": false
   },
   "outputs": [],
   "source": [
    "names(freq_absoluta)[4] = \"Totais\"               # nomeando a linha com as somas como \"Totais\"\n",
    "cbind(freq_absoluta, freq_relativa, porcentagem) # imprimindo novamente a tabela"
   ]
  },
  {
   "cell_type": "markdown",
   "metadata": {
    "deletable": false,
    "editable": false
   },
   "source": [
    "***\n",
    "### Exercício 2\n",
    "Utilize as células de código abaixo para obter a tabela de distribuição de frequências para a variável <b>região de procedência</b>. Note que você poderá inserir todos os códigos em uma única linha, mas sugiro utilizar várias para não se perder. Se precisar inserir mais linhas de código, utilize o botão \"Insert\" do menu na parte superior da tela.\n",
    "***"
   ]
  },
  {
   "cell_type": "code",
   "execution_count": null,
   "metadata": {},
   "outputs": [],
   "source": []
  },
  {
   "cell_type": "code",
   "execution_count": null,
   "metadata": {},
   "outputs": [],
   "source": []
  },
  {
   "cell_type": "code",
   "execution_count": null,
   "metadata": {},
   "outputs": [],
   "source": []
  },
  {
   "cell_type": "code",
   "execution_count": null,
   "metadata": {},
   "outputs": [],
   "source": []
  },
  {
   "cell_type": "code",
   "execution_count": null,
   "metadata": {},
   "outputs": [],
   "source": []
  },
  {
   "cell_type": "code",
   "execution_count": null,
   "metadata": {},
   "outputs": [],
   "source": []
  },
  {
   "cell_type": "code",
   "execution_count": null,
   "metadata": {},
   "outputs": [],
   "source": []
  },
  {
   "cell_type": "markdown",
   "metadata": {
    "deletable": false,
    "editable": false
   },
   "source": [
    "***\n",
    "### 2.2) Variável Quantitativa Contínua\n",
    "\n",
    "Como vimos em aula, a construção de tabelas de distribuição de frequências para variáveis quantitativas contínuas requer uma abordagem diferenciada. Em primeiro lugar, devemos construir os **intervalos de classe**. Vamos considerar a variável <b>salário</b>.\n",
    "\n",
    "***\n",
    "### Exercício 3\n",
    "Utilize a célula a seguir para armazenar os dados correspondentes a variável <b>salário</b> em um vetor chamado \"s\"."
   ]
  },
  {
   "cell_type": "code",
   "execution_count": null,
   "metadata": {},
   "outputs": [],
   "source": []
  },
  {
   "cell_type": "markdown",
   "metadata": {
    "deletable": false,
    "editable": false
   },
   "source": [
    "***\n",
    "Observa-se na tabela de dados que os salários estão limitados entre 4 e 23,3 salários. Vamos então criar (arbitrariamente) 5 faixas salariais com mesmo tamanho e variando entre 4 e 24 salários. Primeiramente devemos criar uma sequência com os valores que irão definir cada faixa salarial. Isso pode ser feito por meio da função seq(). Execute a célula a seguir:"
   ]
  },
  {
   "cell_type": "code",
   "execution_count": null,
   "metadata": {
    "deletable": false,
    "editable": false
   },
   "outputs": [],
   "source": [
    "faixas = seq(4,24,by = 4) # criando a sequência e armazenando no vetor faixas para uso posterior\n",
    "faixas                    # visualizando o vetor criado"
   ]
  },
  {
   "cell_type": "markdown",
   "metadata": {
    "deletable": false,
    "editable": false
   },
   "source": [
    "A função cut() do R nos auxiliará na obtenção dos intervalos de classe. O argumento \"breaks\" receberá o vetor \"faixas\" que acabamos de criar,  enquanto o argumento \"right = FALSE\" significa que o extremo direito do intervalo não deve ser considerado. Execute a célula a seguir:"
   ]
  },
  {
   "cell_type": "code",
   "execution_count": null,
   "metadata": {
    "deletable": false,
    "editable": false
   },
   "outputs": [],
   "source": [
    "int = cut(s, breaks = faixas, right = FALSE) # intervalos de classe armazenados no objeto int"
   ]
  },
  {
   "cell_type": "markdown",
   "metadata": {
    "deletable": false,
    "editable": false
   },
   "source": [
    "A partir de agora o procedimento é análogo ao que foi feito anteriormente. Por exemplo, a função table() fornecerá as frequências absolutas de cada intervalo de classe. Podemos armazenar as frequências absolutas de cada faixa salarial num vetor, digamos \"ns\", e visualizar este vetor criado executando a célula a seguir:"
   ]
  },
  {
   "cell_type": "code",
   "execution_count": null,
   "metadata": {
    "deletable": false,
    "editable": false
   },
   "outputs": [],
   "source": [
    "ns = table(int)\n",
    "ns"
   ]
  },
  {
   "cell_type": "markdown",
   "metadata": {
    "deletable": false,
    "editable": false
   },
   "source": [
    "Observe portanto que existem 10 salários na faixa superior a 4 salários e inferior a 8 salários. Dentre os 36 funcionários, 12 possuem salários superiores a 8 salários e inferiores a 12 salários, e assim por diante."
   ]
  },
  {
   "cell_type": "markdown",
   "metadata": {
    "deletable": false,
    "editable": false
   },
   "source": [
    "***\n",
    "### Exercício 4\n",
    "Utilize as células de código abaixo para obter a tabela de distribuição de frequências para a variável **salário**. Se precisar inserir mais linhas de código, utilize o botão \"Insert\" do menu na parte superior da tela.\n",
    "***"
   ]
  },
  {
   "cell_type": "code",
   "execution_count": null,
   "metadata": {},
   "outputs": [],
   "source": []
  },
  {
   "cell_type": "code",
   "execution_count": null,
   "metadata": {},
   "outputs": [],
   "source": []
  },
  {
   "cell_type": "code",
   "execution_count": null,
   "metadata": {},
   "outputs": [],
   "source": []
  },
  {
   "cell_type": "code",
   "execution_count": null,
   "metadata": {},
   "outputs": [],
   "source": []
  },
  {
   "cell_type": "code",
   "execution_count": null,
   "metadata": {},
   "outputs": [],
   "source": []
  },
  {
   "cell_type": "code",
   "execution_count": null,
   "metadata": {},
   "outputs": [],
   "source": []
  },
  {
   "cell_type": "markdown",
   "metadata": {
    "deletable": false,
    "editable": false
   },
   "source": [
    "***\n",
    "## Parabéns, você concluiu esta atividade prática!\n",
    "\n",
    "<b> <font color='red'>ATENÇÃO! Sugiro imprimir o conteúdo deste notebook para enventuais consultas futuras, pois assim que o navegador for fechado os códigos serão apagados. Para imprimir, tecle Ctrl+P e salve como um arquivo PDF.</font></b>"
   ]
  }
 ],
 "metadata": {
  "kernelspec": {
   "display_name": "R",
   "language": "R",
   "name": "ir"
  },
  "language_info": {
   "codemirror_mode": "r",
   "file_extension": ".r",
   "mimetype": "text/x-r-source",
   "name": "R",
   "pygments_lexer": "r",
   "version": "3.6.1"
  }
 },
 "nbformat": 4,
 "nbformat_minor": 4
}
