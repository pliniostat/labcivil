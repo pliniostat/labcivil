{
 "cells": [
  {
   "cell_type": "markdown",
   "metadata": {
    "deletable": false,
    "editable": false
   },
   "source": [
    "<a href=\"http://www.unioeste.br\"><img src=\"https://www5.unioeste.br/portalunioeste/templates/tlpcampus/images/logoUnioeste.png\" align=\"right\"></a>\n",
    "\n",
    "<h1><center>Atividade Prática em R - Distribuição Geométrica</center></h1>\n",
    "\n",
    "<center>Prof.Dr. Plinio Andrade</center>\n",
    "\n",
    "### Nesta atividade prática você irá:\n",
    "\n",
    "* Conhecer a distribuição geométrica para v.a.'s discretas;\n",
    "* Utilizar o R para calcular probabilidades e quantis associados à essa distribuição;\n",
    "* Simular dados dessa distribuição.\n",
    "\n",
    "<b> <font color='red'>ATENÇÃO!</font></b> sempre que este notebook for reaberto você deverá executar todas as células de código novamente. Cada célula **ativa** é executada pressionando o botão <b>Run</b> no menu da parte superior da tela, ou teclando <b>Ctrl+Enter</b>. Caso esteja utilizando um smartphone ou tablet, cada célula terá um botão ao lado para ser executada. Persistindo dúvidas, assista novamente o video de apresentação sobre notebooks.\n",
    "\n",
    "## 1) Introdução\n",
    "\n",
    "Vimos em aula que um **ensaio de Bernoulli** é um experimento onde observamos a ocorrência ou não de um resultado de interesse com probabilidade $p$ e $1-p$ respectivamente ($0\\leq p\\leq 1$), onde $p$ indica a *probabilidade de sucesso*. Por exemplo, lançar uma moeda honesta e verificar se o resultado é cara. Neste exemplo, *sucesso* é um resultado cara e $p=0,5$.\n",
    "\n",
    "Definimos também a **distribuição Binomial**, que modela uma v.a. que conta o número de sucessos em $n$ ensaios independentes de Bernoulli. Por exemplo, lançamos a moeda honesta $n$ vezes e contamos quantas vezes obtivemos resultado cara.\n",
    "\n",
    "\n",
    "## 2) Distribuição Geométrica\n",
    "\n",
    "Suponha agora que nosso interesse seja o de contar o número de fracassos até o primeiro sucesso em uma sequência de ensaios de Bernoulli independentes. Por exemplo, quantos itens uma máquina pode produzir até que o primeiro item defeituoso seja fabricado.\n",
    "\n",
    "Seja $X$ a v.a. que define experimentos desse tipo e que a probabilidade de sucesso seja novamente constante e igual a $p$, com $0\\leq p\\leq 1$. Neste caso, dizemos que a v.a. $X$ possui **distribuição geométrica com parâmetro $p$**.\n",
    "\n",
    "\n",
    "### 2.1) Função de probabilidade\n",
    "\n",
    "A função de probabilidade (f.p.) de $X$ será dada por:\n",
    "\n",
    "$$\\mathbb{P}(X=x)=(1-p)^x p, \\ \\ \\ \\ \\mbox{para} \\ \\ x=0,1,2,\\ldots$$\n",
    "\n",
    "Note que o suporte da v.a. é infinito, pois não podemos afimar em qual momento o resultado de interesse irá acontecer. Observe também que a definição dessa f.p. é bastante direta, já que devemos observar $x$ fracassos com probabilidade $(1-p)^x$ até que ocorra o primeiro sucesso com probabilidade $p$ (utilizamos o princípio multiplicativo). Usamos a notação $X\\sim Geom(p)$ para denotar uma v.a. que possui distribuição geométrica com parâmetro $p$. Vamos observar graficamente o comportamento dessa distribuição variando os valores de $p$. Para calcular as probabilidades $\\mathbb{P}(X=x)$ utilizamos a função ```dgeom(x,p)```, que fornece a f.p. de uma v.a. Geométrica com parâmetro $p$.\n",
    "\n",
    "Vamos plotar um gráfico de $x$ contra $\\mathbb{P}(X=x)$ para $x=\\{0,1,\\ldots,10\\}$. Repetiremos esse procedimento três vezes tomando $p=0,3$, $0,5$ e $0,7$. Execute as células a seguir para visualizar os gráficos:"
   ]
  },
  {
   "cell_type": "code",
   "execution_count": null,
   "metadata": {
    "deletable": false,
    "editable": false
   },
   "outputs": [],
   "source": [
    "x = c(0,1,2,3,4,5,6,7,8,9,10) # criando o vetor de valores de x"
   ]
  },
  {
   "cell_type": "code",
   "execution_count": null,
   "metadata": {
    "deletable": false,
    "editable": false
   },
   "outputs": [],
   "source": [
    "y1 = dgeom(x,0.3)            # criando o vetor com as probabilidades para cada valor de x e p = 0,3. "
   ]
  },
  {
   "cell_type": "code",
   "execution_count": null,
   "metadata": {
    "deletable": false,
    "editable": false
   },
   "outputs": [],
   "source": [
    "plot(x,y1)                   # gráfico de P(X=x) com x variando de 0 a 10 e p = 0,3"
   ]
  },
  {
   "cell_type": "code",
   "execution_count": null,
   "metadata": {
    "deletable": false,
    "editable": false
   },
   "outputs": [],
   "source": [
    "y2 = dgeom(x,0.5)            # vetor de probabilidades, agora para p = 0,5\n",
    "plot(x,y2)                   # gráfico de P(X=x) com x variando de 0 a 10 e p = 0,5"
   ]
  },
  {
   "cell_type": "code",
   "execution_count": null,
   "metadata": {
    "deletable": false,
    "editable": false
   },
   "outputs": [],
   "source": [
    "y3 = dgeom(x,0.7)            # vetor de probabilidades, agora para p = 0,7\n",
    "plot(x,y3)                   # gráfico de P(X=x) com x variando de 0 a 10 e p = 0,7"
   ]
  },
  {
   "cell_type": "markdown",
   "metadata": {
    "deletable": false,
    "editable": false
   },
   "source": [
    "**Opcional:** para uma melhor visualização, vamos inserir os três gráficos juntos e utilizar o mesmo intervalo de variação para o eixo y dos gráficos. Isso será feio na próxima célula:"
   ]
  },
  {
   "cell_type": "code",
   "execution_count": null,
   "metadata": {
    "deletable": false,
    "editable": false
   },
   "outputs": [],
   "source": [
    "par(mfrow=c(1,3)) # este comando cria uma janela de visualização gráfica com 1 linha e 3 colunas\n",
    "plot(x,y1, ylim=c(0,0.7), main=\"p = 0,3\")\n",
    "plot(x,y2, ylim=c(0,0.7), main=\"p = 0,5\")\n",
    "plot(x,y3, ylim=c(0,0.7), main=\"p = 0,7\")"
   ]
  },
  {
   "cell_type": "markdown",
   "metadata": {
    "deletable": false,
    "editable": false
   },
   "source": [
    "Logo, o gráfico de uma f.p. geométrica indica que sua distribuição é **assimétrica à direita**.\n",
    "\n",
    "### 2.2) Esperança, variância e função de distribuição acumulada\n",
    "\n",
    "Mostra-se que se $X\\sim Geom(p)$, então\n",
    "\n",
    "$$\\mathbb{E}(X)=\\frac{1-p}{p} \\ \\ \\ \\ \\ \\mbox{e} \\ \\ \\ \\ \\ \\mbox{Var}(X)=\\frac{1-p}{p^2},$$\n",
    "\n",
    "e que para todo $x\\in\\mathbb{R}$, sua função de distribuição acumulada (f.d.a.) é dada por\n",
    "\n",
    "$$F(x)=\\sum_{i=0}^{[x]} p(1-p)^i,$$\n",
    "onde o símbolo $[x]$ denota o maior número inteiro menor ou igual a $x$. Por exemplo, $F(2,5)$ é calculado somando até 2 na fórmula acima.\n",
    "\n",
    "### 2.3) Exemplo\n",
    "\n",
    "Em um experimento controlado, uma certa reação química ocorre em $25\\%$ das vezes. Um pesquisador conduz experimentos (ensaios) desse tipo de maneira independente.\n",
    "\n",
    "**a)** Qual a probabilidade de que sejam necessários exatamente 3 ensaios para a observar a reação?\n",
    "\n",
    "**b)** Qual a probabilidade de que menos de cinco experimentos sejam necessários para que a primeira reação ocorra?\n",
    "\n",
    "**c)** Qual a probabilidade de pelo menos um experimento ser necessário para se obter a reação?\n",
    "\n",
    "**d)** Qual o número mínimo de falhas $x$ para que a reação desejada ocorra no ensaio seguinte em 75% das vezes?\n",
    "\n",
    "**Solução:** Seja $X$ a v.a. que define o número de fracassos até que a primeira reação ocorra. Neste caso, temos que $X\\sim Geom(p=0,25)$.\n",
    "\n",
    "Para o item **(a)**, observe que se a reação ocorreu em 3 ensaios, devemos falhar nos 2 primeiros. Logo, devemos calcular\n",
    "\n",
    "$$\\mathbb{P}(X=2)=0,25\\times(1-0,25)^2\\approx 0,1406.$$ \n",
    "\n",
    "Como vimos anteriormente, a probabilidade acima pode ser calculada por meio da função ```dgeom(x,p)```. Execute a célula de código a seguir para fazer esse cálculo:"
   ]
  },
  {
   "cell_type": "code",
   "execution_count": null,
   "metadata": {
    "deletable": false,
    "editable": false
   },
   "outputs": [],
   "source": [
    "dgeom(2,0.25)"
   ]
  },
  {
   "cell_type": "markdown",
   "metadata": {
    "deletable": false,
    "editable": false
   },
   "source": [
    "Para o item **(b)**, se temos menos de 5 ensaios, devemos falhar menos de 4 vezes antes de observar a reação. Logo, queremos calcular:\n",
    "\n",
    "$$\\mathbb{P}(X<4).$$\n",
    "\n",
    "Usando a propriedade vista em aula, temos que\n",
    "\n",
    "$$\\mathbb{P}(X<4)=\\mathbb{P}(X\\leq 3)=F(3)\\approx 0,6836.$$\n",
    "\n",
    "Podemos fazer esse cálculo no R por meio da função ```pgeom(x,p)```, que fornece a f.d.a. de uma v.a. geométrica com parâmetro $p$. Execute a célula a seguir:"
   ]
  },
  {
   "cell_type": "code",
   "execution_count": null,
   "metadata": {
    "deletable": false,
    "editable": false
   },
   "outputs": [],
   "source": [
    "pgeom(3,0.25)"
   ]
  },
  {
   "cell_type": "markdown",
   "metadata": {
    "deletable": false,
    "editable": false
   },
   "source": [
    "Resolvemos o item **(c)** calculando $\\mathbb{P}(X>0)$, pois se a reação é observada após um ou mais experimentos, devemos falhar zero ou mais vezes. O cálculo é feito de maneira análoga ao item anterior, mas devemos observar que:\n",
    "\n",
    "$$\\mathbb{P}(X>0)=1-\\mathbb{P}(X\\leq 0)=1-F(0)=0,75.$$\n",
    "\n",
    "Vamos fazer esse cálculo executando a célula seguinte:"
   ]
  },
  {
   "cell_type": "code",
   "execution_count": null,
   "metadata": {
    "deletable": false,
    "editable": false
   },
   "outputs": [],
   "source": [
    "1-pgeom(0,0.25)"
   ]
  },
  {
   "cell_type": "markdown",
   "metadata": {
    "deletable": false,
    "editable": false
   },
   "source": [
    "No item **(d)** queremos obter o valor de $x$ tal que $\\mathbb{P}(X\\leq x)= 0,75$, isto é, queremos obter um quantil de ordem $\\alpha=0,75$ da distribuição de $X$. Lembre-se que no caso discreto esse quantil nem sempre será exato (veja a definição na prática anterior). No R podemos utilizar a função ```qgeom(ordem,p)```, em que ```ordem``` denota a ordem do quantil a ser calculado e ```p``` denota o parâmetro da distribuição geométrica. O comando da célula a seguir nos fornece esse cálculo; execute-a."
   ]
  },
  {
   "cell_type": "code",
   "execution_count": null,
   "metadata": {
    "deletable": false,
    "editable": false
   },
   "outputs": [],
   "source": [
    "qgeom(0.75,0.25)"
   ]
  },
  {
   "cell_type": "markdown",
   "metadata": {
    "deletable": false,
    "editable": false
   },
   "source": [
    "Portanto, para o modelo proposto, as reações ocorrerão no 5º ensaio em $75\\%$ das vezes.\n",
    "\n",
    "### 2.4) Simulação de dados\n",
    "\n",
    "Para simular dados dessa distribuição, usamos a função ```rgeom(num,p)```, em que ```num``` denota o tamanho desejado da amostra e ```p``` é o parâmetro da distribuição geométrica. Por exemplo, vamos simular uma amostra de tamanho $100$ de uma população com distribuição geométrica com parâmetro $p=0,25$ e plotar o histograma desses dados. Execute a célula a seguir:"
   ]
  },
  {
   "cell_type": "code",
   "execution_count": null,
   "metadata": {
    "deletable": false,
    "editable": false
   },
   "outputs": [],
   "source": [
    "amostra = rgeom(100, 0.25)\n",
    "hist(amostra)"
   ]
  },
  {
   "cell_type": "markdown",
   "metadata": {
    "deletable": false,
    "editable": false
   },
   "source": [
    "Como esperado, a distribuição dos dados é assimétrica à direita. Isso foi observado teoricamente na parte **(2.1)**.\n",
    "\n",
    "### Exercício 1\n",
    "\n",
    "Num jogo a probabilidade de um jogador ganhar algum prêmio em cada tentativa é de $0,10$. Supondo tentativas independentes, qual a probabilidade do jogador ganhar algum prêmio antes de 5 tentativas? **Resposta:** 0,3439."
   ]
  },
  {
   "cell_type": "code",
   "execution_count": null,
   "metadata": {},
   "outputs": [],
   "source": []
  },
  {
   "cell_type": "code",
   "execution_count": null,
   "metadata": {},
   "outputs": [],
   "source": []
  },
  {
   "cell_type": "code",
   "execution_count": null,
   "metadata": {},
   "outputs": [],
   "source": []
  },
  {
   "cell_type": "markdown",
   "metadata": {
    "deletable": false,
    "editable": false
   },
   "source": [
    "## Parabéns, você concluiu esta atividade prática!\n",
    "\n",
    "<b> <font color='red'>ATENÇÃO! Sugiro imprimir o conteúdo deste notebook para enventuais consultas futuras, pois assim que o navegador for fechado os códigos serão apagados. Para imprimir, tecle Ctrl+P e salve como um arquivo PDF.</font></b>"
   ]
  }
 ],
 "metadata": {
  "kernelspec": {
   "display_name": "R",
   "language": "R",
   "name": "ir"
  },
  "language_info": {
   "codemirror_mode": "r",
   "file_extension": ".r",
   "mimetype": "text/x-r-source",
   "name": "R",
   "pygments_lexer": "r",
   "version": "3.6.1"
  }
 },
 "nbformat": 4,
 "nbformat_minor": 4
}
