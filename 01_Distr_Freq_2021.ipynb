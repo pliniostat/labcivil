{
 "cells": [
  {
   "cell_type": "markdown",
   "metadata": {
    "deletable": false,
    "editable": false
   },
   "source": [
    "<a href=\"http://www.unioeste.br\"><img src=\"https://www5.unioeste.br/portalunioeste/templates/tlpcampus/images/logoUnioeste.png\" align=\"right\"></a>\n",
    "\n",
    "<h1><center>Atividade Prática em R - Distribuições de Frequências e Tabelas de Contingência</center></h1>\n",
    "\n",
    "<center>Prof.Dr. Plinio Andrade</center>\n",
    "\n",
    "### Nesta roteiro prático você aprenderá a utilizar o R para:\n",
    "\n",
    "* Visualizar e acessar objetos que estão armazenados na memória do R;\n",
    "* visualizar um dataframe e acessar partes específicas deste;\n",
    "* armazenar uma variável num vetor com um rótulo escolhido;\n",
    "* obter valores para tabelas de distribuição de frequências;\n",
    "* obter valores para tabelas de contingência.\n",
    "\n",
    "<b> <font color='red'>ATENÇÃO!</font></b> sempre que este notebook for reaberto você deverá executar todas as células de código novamente. Cada célula **ativa** é executada pressionando o botão <b>Run</b> no menu da parte superior da tela, ou teclando <b>Ctrl+Enter</b>. Caso esteja utilizando um smartphone ou tablet, cada célula terá um botão ao lado para ser executada.\n",
    "\n",
    "***\n",
    "\n",
    "## 1) Sobre os dados\n",
    "\n",
    "Utilizaremos nesta prática os dados de Bussab & Morettin (2006), disponibilizados na página de um dos autores ([clique aqui](https://www.ime.usp.br/~pam/EstBas.html)). Todos os cojuntos de dados utilizados no livro foram reunidos em um único arquivo do R chamado \"dados.RData\" (também disponível nos formatos .PDF e .xls). Você não precisa baixar o arquivo, pois este será baixado diretamente do site dos autores por meio do seguinte comando:"
   ]
  },
  {
   "cell_type": "code",
   "execution_count": null,
   "metadata": {
    "deletable": false,
    "editable": false
   },
   "outputs": [],
   "source": [
    "arquivo = url('https://www.ime.usp.br/~pam/dados.RData') # armazenamos o endereço eletrônico numa variável chamada arquivo\n",
    "load(arquivo)                                            # carregamos o arquivo na memória do R"
   ]
  },
  {
   "cell_type": "markdown",
   "metadata": {
    "deletable": false,
    "editable": false
   },
   "source": [
    "O que esse comando fez, foi armazenar tudo que está no arquivo \"dados.RData\" num objeto que rotulamos de \"arquivo\". Tudo que aparece após o símbolo ```#``` numa linha de comando não é executado e serve apenas para descrever o que o comando faz.\n",
    "\n",
    "Podemos agora listar todos os objetos armazenados na memória do R com a função ls(). Execute a célula a seguir:"
   ]
  },
  {
   "cell_type": "code",
   "execution_count": null,
   "metadata": {
    "deletable": false,
    "editable": false
   },
   "outputs": [],
   "source": [
    "ls()"
   ]
  },
  {
   "cell_type": "markdown",
   "metadata": {
    "deletable": false,
    "editable": false
   },
   "source": [
    "Perceba que existem vários objetos que foram adicionados. Vamos visualizar o objeto \"tab2_1\". Execute a célula a seguir:"
   ]
  },
  {
   "cell_type": "code",
   "execution_count": null,
   "metadata": {
    "deletable": false,
    "editable": false
   },
   "outputs": [],
   "source": [
    "tab2_1"
   ]
  },
  {
   "cell_type": "markdown",
   "metadata": {
    "deletable": false,
    "editable": false
   },
   "source": [
    "A tabela impressa está formatada como um *dataframe*, isto é, um objeto que possui linhas e colunas (neste caso 36 linhas e 8 colunas). Trata-se da Tabela 2.1 de Bussab & Morettin (2006), utilizada em aula. Note que cada coluna possui um rótulo, por exemplo, a variável <b>grau de instrução</b> está rotulada como <b>grau_instrucao</b>, a variável **região de procedência** está rotulada como **reg_procedencia**, e assim por diante.\n",
    "\n",
    "Para acessar facilmente o conteúdo de uma determinada coluna, devemos executar o comando ```attach()```. Execute a célula a seguir:"
   ]
  },
  {
   "cell_type": "code",
   "execution_count": null,
   "metadata": {
    "deletable": false,
    "editable": false
   },
   "outputs": [],
   "source": [
    "attach(tab2_1)"
   ]
  },
  {
   "cell_type": "markdown",
   "metadata": {
    "deletable": false,
    "editable": false
   },
   "source": [
    "Feito isso, podemos acessar o conteúdo de uma variável, simplesmente digitando o seu rótulo. Por exemplo, para visualizar o conteúdo da variável **grau de instrução**, basta digitar seu rótulo que é **grau_instrucao**. Execute a célula a seguir:"
   ]
  },
  {
   "cell_type": "code",
   "execution_count": null,
   "metadata": {
    "deletable": false,
    "editable": false
   },
   "outputs": [],
   "source": [
    "grau_instrucao"
   ]
  },
  {
   "cell_type": "markdown",
   "metadata": {
    "deletable": false,
    "editable": false
   },
   "source": [
    "Podemos armazenar os dados referentes a cada variável em um novo vetor para simplificar o acesso e não precisar ficar digitando rótulos longos das variáveis (facilitando a nossa vida). Por exemplo, vamos armazenar os dados da variável **grau de instrução** num vetor chamado \"gi\". Você poderia escolher qualquer outro nome que fosse fácil de lembrar, mas vamos manter gi por enquanto. Execute a célula a seguir:"
   ]
  },
  {
   "cell_type": "code",
   "execution_count": null,
   "metadata": {
    "deletable": false,
    "editable": false
   },
   "outputs": [],
   "source": [
    "gi = grau_instrucao"
   ]
  },
  {
   "cell_type": "markdown",
   "metadata": {
    "deletable": false,
    "editable": false
   },
   "source": [
    "Assim, toda vez que desejarmos acessar o conteúdo dessa variável, basta digitar ```gi```, como mostra a célula a seguir:"
   ]
  },
  {
   "cell_type": "code",
   "execution_count": null,
   "metadata": {
    "deletable": false,
    "editable": false
   },
   "outputs": [],
   "source": [
    "gi"
   ]
  },
  {
   "cell_type": "markdown",
   "metadata": {
    "deletable": false,
    "editable": false
   },
   "source": [
    "A função ```lenght()``` fornece o número de elementos de um vetor de dados, enquanto a função ```dim()``` nos fornece as dimensões de um dataframe (tabela). Execute as células a seguir:"
   ]
  },
  {
   "cell_type": "code",
   "execution_count": null,
   "metadata": {
    "deletable": false,
    "editable": false
   },
   "outputs": [],
   "source": [
    "length(gi)   # vamos ver quantos elementos o vetor gi criado possui (neste caso 36)"
   ]
  },
  {
   "cell_type": "code",
   "execution_count": null,
   "metadata": {
    "deletable": false,
    "editable": false
   },
   "outputs": [],
   "source": [
    "dim(tab2_1)  # vamos ver quantas linhas e quantas colunas possui a tabela 2.1 (36 linhas por 8 colunas)"
   ]
  },
  {
   "cell_type": "markdown",
   "metadata": {
    "deletable": false,
    "editable": false
   },
   "source": [
    "### Exercício 1 \n",
    "Utilize a célula em branco a seguir para imprimir na tela o conteúdo da variável <b>idade</b> em anos."
   ]
  },
  {
   "cell_type": "code",
   "execution_count": null,
   "metadata": {},
   "outputs": [],
   "source": []
  },
  {
   "cell_type": "markdown",
   "metadata": {
    "deletable": false,
    "editable": false
   },
   "source": [
    "## 2) Distribuição de frequências\n",
    "\n",
    "Vamos agora entender como podemos utilizar o R para obter as contagens para construir tabelas de distribuições de frequência.\n",
    "\n",
    "### 2.1) Variável Qualitativa ou Quantitativa Discreta\n",
    "\n",
    "A função ```table()``` apresenta as frequências absolutas de cada modalidade da variável, eliminando a necessidade de contar manualmente as frequências por inspeção visual da tabela de dados. \n",
    "\n",
    "Recorde que a variável **grau de instrução** é uma variável qualitativa ordinal. Vamos obter as frequências de cada modalidade dessa variável (neste caso ensino fundamental, médio e superior). Lembre-se que armazenamos os dados dessa variável no vetor rotulado como \"gi\". Execute a célula a seguir:"
   ]
  },
  {
   "cell_type": "code",
   "execution_count": null,
   "metadata": {},
   "outputs": [],
   "source": [
    "table(grau_instrucao)"
   ]
  },
  {
   "cell_type": "code",
   "execution_count": null,
   "metadata": {
    "deletable": false,
    "editable": false
   },
   "outputs": [],
   "source": [
    "table(gi)"
   ]
  },
  {
   "cell_type": "markdown",
   "metadata": {
    "deletable": false,
    "editable": false
   },
   "source": [
    "Pelo impresso podemos concluir que dentre os 36 funcionários, 12 possuem ensino fundamental, 18 possuem ensino médio e 6 funcionários possuem ensino superior. \n",
    "\n",
    "Recorde que a frequência relativa de cada modalidade é definida pela divisão entre a frequência absoluta correspondente e o número total de observações (tamanho da amostra). Podemos fazer esse cálculo manualmente ou utilizar o R.\n",
    "\n",
    "A célula a seguir mostra como esse cálculo simples é feito. Vamos armazenar as contagens obtidas anteriormente num objeto que chamaremos de \"ni\". Em seguida, podemos obter as frequências relativas por meio da função ```prop.table()```. Execute a célula a seguir:"
   ]
  },
  {
   "cell_type": "code",
   "execution_count": null,
   "metadata": {},
   "outputs": [],
   "source": [
    "prop.table(table(grau_instrucao))"
   ]
  },
  {
   "cell_type": "code",
   "execution_count": null,
   "metadata": {
    "deletable": false,
    "editable": false
   },
   "outputs": [],
   "source": [
    "ni = table(gi) # armazenando as frequências absolutas no objeto ni\n",
    "prop.table(ni) # obtendo as frequências relativas correspondentes"
   ]
  },
  {
   "cell_type": "markdown",
   "metadata": {
    "deletable": false,
    "editable": false
   },
   "source": [
    "### Exercício 2\n",
    "Utilize as células de código abaixo para obter a tabela de distribuição de frequências para a variável <b>região de procedência</b>. Note que você poderá inserir todos os códigos em uma única linha, mas sugiro utilizar várias para não se perder. Se precisar inserir mais linhas de código, utilize o botão \"Insert\" do menu na parte superior da tela."
   ]
  },
  {
   "cell_type": "code",
   "execution_count": null,
   "metadata": {},
   "outputs": [],
   "source": []
  },
  {
   "cell_type": "code",
   "execution_count": null,
   "metadata": {},
   "outputs": [],
   "source": []
  },
  {
   "cell_type": "code",
   "execution_count": null,
   "metadata": {},
   "outputs": [],
   "source": []
  },
  {
   "cell_type": "markdown",
   "metadata": {
    "deletable": false,
    "editable": false
   },
   "source": [
    "### 2.2) Variável Quantitativa Contínua\n",
    "\n",
    "Como vimos em aula, a construção de tabelas de distribuição de frequências para variáveis quantitativas contínuas requer uma abordagem diferenciada. Em primeiro lugar, devemos construir os **intervalos de classe**. Vamos considerar a variável <b>salário</b>, cujo conteúdo pode ser visualizado diretamente na tabela ou digitando seu rótulo, que no caso é **salario**. Execute a célula a seguir:"
   ]
  },
  {
   "cell_type": "code",
   "execution_count": null,
   "metadata": {
    "deletable": false,
    "editable": false
   },
   "outputs": [],
   "source": [
    "salario"
   ]
  },
  {
   "cell_type": "markdown",
   "metadata": {
    "deletable": false,
    "editable": false
   },
   "source": [
    "A função ```cut()``` do R nos auxiliará na obtenção dos intervalos de classe. O argumento ```right = FALSE``` significa que o extremo direito do intervalo não deve ser considerado. Execute a célula a seguir:"
   ]
  },
  {
   "cell_type": "code",
   "execution_count": null,
   "metadata": {
    "deletable": false,
    "editable": false
   },
   "outputs": [],
   "source": [
    "cut(salario, c(4,8,12,16,20,24), right=FALSE)"
   ]
  },
  {
   "cell_type": "markdown",
   "metadata": {
    "deletable": false,
    "editable": false
   },
   "source": [
    "Assim, essa função irá nos dizer em qual intervalo de classe um dado resultado da variável **salário** estará. Por exemplo, o primeiro valor dessa variável é 4,00, logo ele deverá estar no intervalo [4,8).\n",
    "\n",
    "Para obter as frequências de cada intervalo de classe, utilizamos novamente a função ```table()```, mas ao invés de incluir diretamente a variável **salário**, devemos incluir o resultado da função ```cut()``` obtido anteriormente. Note que isso deverá ser feito sempre que estivermos estudando uma variável quantitativa contínua. Execute a célula a seguir:"
   ]
  },
  {
   "cell_type": "code",
   "execution_count": null,
   "metadata": {
    "deletable": false,
    "editable": false
   },
   "outputs": [],
   "source": [
    "table(cut(salario, c(4,8,12,16,20,24), right=FALSE))"
   ]
  },
  {
   "cell_type": "code",
   "execution_count": null,
   "metadata": {},
   "outputs": [],
   "source": [
    "table(cut(salario, c(4,8,12,16,20,24), right=FALSE))"
   ]
  },
  {
   "cell_type": "markdown",
   "metadata": {
    "deletable": false,
    "editable": false
   },
   "source": [
    "Assim, temos 10 funcionário que ganham entro 4 e 8 salário, 12 que ganham entre 8 e 12 e assim por diante.\n",
    "\n",
    "Depois de obtidas as frequências absolutas, podemos obter as frequências relativas de maneira análoga ao caso qualiativo ou discreto. Isso é explicitado no código a seguir:"
   ]
  },
  {
   "cell_type": "code",
   "execution_count": null,
   "metadata": {
    "deletable": false,
    "editable": false
   },
   "outputs": [],
   "source": [
    "ns = table(cut(salario, c(4,8,12,16,20,24), right=FALSE))\n",
    "prop.table(ns)"
   ]
  },
  {
   "cell_type": "markdown",
   "metadata": {
    "deletable": false,
    "editable": false
   },
   "source": [
    "## 3) Tabelas de contingência\n",
    "\n",
    "Vamos agora entender como podemos utilizar o R para obter as contagens para construir tabelas de contingência.\n",
    "\n",
    "### 3.1) Cruzando variáveis qualitativas e\\ou quantitativas discretas\n",
    "\n",
    "Considere as variáveis **estado civil** e **grau de instrução**. Já armazenamos o conteúdo da segunda variável no vetor \"gi\"; vamos armazenar os valores da primeira em um vetor rotulado com \"ec\". Execute a célula a seguir:"
   ]
  },
  {
   "cell_type": "code",
   "execution_count": null,
   "metadata": {
    "deletable": false,
    "editable": false
   },
   "outputs": [],
   "source": [
    "ec = estado_civil # armazenando\n",
    "ec                # visualizando"
   ]
  },
  {
   "cell_type": "markdown",
   "metadata": {
    "deletable": false,
    "editable": false
   },
   "source": [
    "A tabela de contigência para o caso de duas variáveis qualitativas, duas variáveis quantitativas discretas ou combinações desses dois tipos de variáveis são facilmente obtidas por meio da função ```table()``` que utilizamos anteriormente. A diferença é que ao invés de informar apenas uma variável, informaremos duas. O comando da célula a seguir mostra isso para as variáveis **estado civil** e **grau de instrução**, execute-a:"
   ]
  },
  {
   "cell_type": "code",
   "execution_count": null,
   "metadata": {
    "deletable": false,
    "editable": false
   },
   "outputs": [],
   "source": [
    "table(ec,gi)"
   ]
  },
  {
   "cell_type": "code",
   "execution_count": null,
   "metadata": {},
   "outputs": [],
   "source": [
    "table(estado_civil,grau_instrucao)"
   ]
  },
  {
   "cell_type": "markdown",
   "metadata": {
    "deletable": false,
    "editable": false
   },
   "source": [
    "Logo, com base no que foi impresso, temos que dentre os casados, 5 possuem ensino fundamental, 12 possuem ensino médio e 3 possuem ensino superior e, dentre os solteiros, essas frequências correspondem a 7,6 e 3 respectivamente."
   ]
  },
  {
   "cell_type": "markdown",
   "metadata": {
    "deletable": false,
    "editable": false
   },
   "source": [
    "### 3.2) Cruzando variáveis quando pelo menos uma é contínua\n",
    "\n",
    "Como no caso contínuo devemos obter intervalos de classe, precisamos proceder de maneira análoga ao que vimos na **seção (2.2)**, ou seja, devemos utilizar a função ```cut()```.\n",
    "\n",
    "Para a variável salário, vamos armazenar o resultado da função ```cut()``` num vetor chamado \"int\". Faremos isso apenas para não poluir demais o código com várias funões aninhadas. Execute a célula a seguir:"
   ]
  },
  {
   "cell_type": "code",
   "execution_count": null,
   "metadata": {
    "deletable": false,
    "editable": false
   },
   "outputs": [],
   "source": [
    "int = cut(salario, c(4,8,12,16,20,24), right=FALSE) # armazenando"
   ]
  },
  {
   "cell_type": "markdown",
   "metadata": {
    "deletable": false,
    "editable": false
   },
   "source": [
    "Vamos então cruzar os dados da variável **grau de instrução** e **salário**. Execute a célula a seguir:"
   ]
  },
  {
   "cell_type": "code",
   "execution_count": null,
   "metadata": {
    "deletable": false,
    "editable": false
   },
   "outputs": [],
   "source": [
    "table(gi, int)"
   ]
  },
  {
   "cell_type": "markdown",
   "metadata": {
    "deletable": false,
    "editable": false
   },
   "source": [
    "### Exercício 3\n",
    "\n",
    "Construa a distribuição de frequência conjunta para as variáveis **grau de instrução** e **região de procedência** e responda:\n",
    "\n",
    "(a) Qual a porcentagem de funcionários que têm o ensino médio?\n",
    "\n",
    "(b) Qual a porcentagem daqueles que têm o ensino médio e são do interior?\n",
    "\n",
    "(c) Dentre os funcionários do interior, quantos por cento têm o ensino médio?"
   ]
  },
  {
   "cell_type": "code",
   "execution_count": null,
   "metadata": {},
   "outputs": [],
   "source": []
  },
  {
   "cell_type": "code",
   "execution_count": null,
   "metadata": {},
   "outputs": [],
   "source": []
  },
  {
   "cell_type": "code",
   "execution_count": null,
   "metadata": {},
   "outputs": [],
   "source": []
  },
  {
   "cell_type": "markdown",
   "metadata": {
    "deletable": false,
    "editable": false
   },
   "source": [
    "## Parabéns, você concluiu este roteiro prático!\n",
    "\n",
    "<b> <font color='red'>ATENÇÃO! Sugiro imprimir o conteúdo deste notebook para enventuais consultas futuras, pois assim que o navegador for fechado os códigos serão apagados. Para imprimir, tecle Ctrl+P e salve como um arquivo PDF.</font></b>"
   ]
  }
 ],
 "metadata": {
  "kernelspec": {
   "display_name": "R",
   "language": "R",
   "name": "ir"
  },
  "language_info": {
   "codemirror_mode": "r",
   "file_extension": ".r",
   "mimetype": "text/x-r-source",
   "name": "R",
   "pygments_lexer": "r",
   "version": "3.6.1"
  }
 },
 "nbformat": 4,
 "nbformat_minor": 4
}
