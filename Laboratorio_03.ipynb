{
 "cells": [
  {
   "cell_type": "markdown",
   "metadata": {
    "deletable": false,
    "editable": false
   },
   "source": [
    "<a href=\"http://www.unioeste.br\"><img src=\"https://www5.unioeste.br/portalunioeste/templates/tlpcampus/images/logoUnioeste.png\" align=\"right\"></a>\n",
    "\n",
    "<h1><center>Atividade Prática em R - Coeficientes de Assimetria e Curtose, Quantis e Box Plot</center></h1>\n",
    "\n",
    "<center>Prof.Dr. Plinio Andrade</center>"
   ]
  },
  {
   "cell_type": "markdown",
   "metadata": {
    "deletable": false,
    "editable": false
   },
   "source": [
    "Nesta atividade prática você aprenderá a utilizar o R para:\n",
    "\n",
    "* calcular e interpretar os coeficientes de **assimetria** e **curtose** (que não foram apresentados nas aulas);\n",
    "* calcular quantis amostrais de qualquer ordem;\n",
    "* plotar gráficos de quantis;\n",
    "* plotar box plots.\n",
    "\n",
    "<b> <font color='red'>ATENÇÃO!</font></b> sempre que este arquivo for reaberto você deverá executar todas as células de código novamente. Cada célula ativa é executada pressionando o botão <b>Run</b> no menu ou teclando <b>Ctrl+Enter</b> (persistindo dúvidas, assista a videoaula de apresentação sobre notebooks).\n",
    "\n",
    "Caso necessite criar mais células de código, basta ir ao menu Insert.\n",
    "\n",
    "***\n",
    "\n",
    "## 1) Sobre os dados\n",
    "\n",
    "Novamente, utilizaremos nesta prática os dados de Bussab & Morettin (2006). Vamos armazená-los na memória executando a célula a seguir:"
   ]
  },
  {
   "cell_type": "code",
   "execution_count": null,
   "metadata": {
    "deletable": false,
    "editable": false
   },
   "outputs": [],
   "source": [
    "arquivo = url('https://www.ime.usp.br/~pam/dados.RData')\n",
    "load(arquivo)"
   ]
  },
  {
   "cell_type": "code",
   "execution_count": null,
   "metadata": {
    "deletable": false,
    "editable": false
   },
   "outputs": [],
   "source": [
    "attach(tab2_1) # tornando as colunas da tabela 2.1 acessíveis pelos seus respectivos nomes"
   ]
  },
  {
   "cell_type": "markdown",
   "metadata": {
    "deletable": false,
    "editable": false
   },
   "source": [
    "***\n",
    "## 2) Coeficiente de assimetria e curtose\n",
    "O conceito de simetria da distribuição dos dados foi apresentado em aula. Vamos definir e calcular com o auxílio do R uma medida que quantifica essa simetria. Vamos também definir um novo conceito chamado **curtose**, que também tem relação com a forma da distribuição dos dados. Primeiramente, vamos definir alguns objetos importantes.\n",
    "\n",
    "Sejam $x_1,x_2,\\ldots,x_n$ um conjunto de dados sobre a variável $X$. Defina\n",
    "\n",
    "$$m_2=\\frac{1}{n}\\sum_{i=1}^n (x_i-\\bar{x})^2, \\ \\ \\ \\mbox{(variância dos dados)}$$\n",
    "\n",
    "em que $\\bar{x}=\\frac{1}{n}\\sum_{i=1}^n x_i$ é a média amostral. Defina também a seguinte **padronização** dos dados\n",
    "\n",
    "$$z_i=\\frac{x_i-\\bar{x}}{\\sqrt{m_2}} \\ \\ \\ (\\mbox{para }i=1,2,\\ldots,n).$$\n",
    "\n",
    "### 2.1) Coeficiente de assimetria\n",
    "O **coeficiente de assimetria amostral**, denotado por $b_1$, é definido por:\n",
    "\n",
    "$$b_1=\\frac{1}{n}\\sum_{i=1}^n z_i^3.$$\n",
    "\n",
    "Devemos interpretar o coeficiente de assimetria como segue:\n",
    "\n",
    "* Se a distribuição dos dados for assimétrica à **direita** (ou positiva), devemos ter $b_1>0$;\n",
    "* se a distribuição dos dados for assimétrica à **esquerda** (ou negativa), devemos ter $b_1<0$;\n",
    "* se a distribuição dos dados for simétrica (aproximadamente), devemos ter $b_1\\approx 0$.\n",
    "\n",
    "Tal função **não** está implementada no R. A célula a seguir contém uma função implementada para calcular o coeficiente de assimetria, execute-a para poder prosseguir:"
   ]
  },
  {
   "cell_type": "code",
   "execution_count": null,
   "metadata": {
    "deletable": false,
    "editable": false
   },
   "outputs": [],
   "source": [
    "# Função para calcular o coeficiente de assimetria\n",
    "assimetria <- function(x)\n",
    "{\n",
    "   x  = na.omit(x)\n",
    "   m2 = mean((x-mean(x))^2)\n",
    "   z  = (x-mean(x))/sqrt(m2)\n",
    "   b1 = mean(z^3)\n",
    "   return(b1)\n",
    "}"
   ]
  },
  {
   "cell_type": "markdown",
   "metadata": {
    "deletable": false,
    "editable": false
   },
   "source": [
    "O histograma da variável **salário** obtido na atividade prática anterior sugere que a distribuição desses dados possui assimetria à direita. Vamos verificar isso calculando o coeficiente de assimetria com a função implementada. Execute a célula a seguir:"
   ]
  },
  {
   "cell_type": "code",
   "execution_count": null,
   "metadata": {
    "deletable": false,
    "editable": false
   },
   "outputs": [],
   "source": [
    "s = salario   # carregando os dados da variável salário no vetor \"s\"\n",
    "assimetria(s) # calculando o coeficiente de assimetria de s"
   ]
  },
  {
   "cell_type": "markdown",
   "metadata": {
    "deletable": false,
    "editable": false
   },
   "source": [
    "***\n",
    "### Exercício 1\n",
    "Obtenha o coeficiente de assimetria das variáveis **idade** (em anos) e **número de filhos**. Nas primeiras duas células introduza o cálculo do coeficiente para cada variável e nas duas últimas células escreva sobre a sua decisão quanto à simetria ou assimetria da distribuição de cada variável.\n",
    "***"
   ]
  },
  {
   "cell_type": "code",
   "execution_count": null,
   "metadata": {},
   "outputs": [],
   "source": [
    "# Cálculo do coef. de assimetria para a variável idade\n"
   ]
  },
  {
   "cell_type": "code",
   "execution_count": null,
   "metadata": {},
   "outputs": [],
   "source": [
    "# Cálculo do coef. de assimetria para a variável número de filhos\n"
   ]
  },
  {
   "cell_type": "markdown",
   "metadata": {
    "deletable": false,
    "editable": false
   },
   "source": [
    "Escreva após o símbolo \"#\" na célula a seguir a sua resposta quando a simetria da variável **idade** (em anos):"
   ]
  },
  {
   "cell_type": "code",
   "execution_count": null,
   "metadata": {},
   "outputs": [],
   "source": [
    "#"
   ]
  },
  {
   "cell_type": "markdown",
   "metadata": {
    "deletable": false,
    "editable": false
   },
   "source": [
    "Escreva após o símbolo \"#\" na célula a seguir a sua resposta quando a simetria da variável **número de fihos**:"
   ]
  },
  {
   "cell_type": "code",
   "execution_count": null,
   "metadata": {},
   "outputs": [],
   "source": [
    "#"
   ]
  },
  {
   "cell_type": "markdown",
   "metadata": {
    "deletable": false,
    "editable": false
   },
   "source": [
    "### 2.2) Coeficiente de curtose\n",
    "O **coeficiente de curtose**, excesso de curtose ou achatamento, mede o quanto a distribuição dos dados é concentrada ou dispersa em torno de uma medida de posição central. Tal medida também está relacionada com o *peso da cauda* da distribuição dos dados, isto é, o quão propensa a distribuição dos dados é na geração de valores extremos (valores muito distantes de onde a maioria das observações se concentram - \"outliers\"). Dados os valores de $z_1,z_2,\\ldots,z_n$ definidos em (6.1), este coeficiente é dado por:\n",
    "\n",
    "$$b_2=\\left(\\frac{1}{n}\\sum_{i=1}^n z_i^4\\right) - 3.$$\n",
    "\n",
    "\n",
    "A curtose é classificada em três tipos quando ao valor de $b_2$:\n",
    "\n",
    "* Se $b_2<0$, dizemos que a distribuição dos dados possui caudas mais leves que as da distribuição normal$^*$ (**Platicúrtica**).\n",
    "* Se $b_2\\approx 0$, dizemos que a distribuição dos dados possui caudas aproximadamente iguais as da distribuição normal (**Mesocúrtica:**). \n",
    "* Se $b_2>0$, dizemos que a distribuição dos dados possui caudas mais pesadas que as da distribuição normal (**Leptocúrtica:**).\n",
    "\n",
    "$^*$ Vamos conhecer a **distribuição normal de probabilidades** na segunda parte da disciplina, mas podemos interpretar a curtose graficamente:\n",
    "\n",
    "\n",
    "<img src=\"http://www.portalaction.com.br/sites/default/files/resize/EstatisticaBasica/figuras/curtose1-700x304.png\" align=\"center\"></a>\n",
    "\n",
    "\n",
    "A célula a seguir contém uma função implementada para calcular o coeficiente de curtose, execute-a para poder prosseguir:"
   ]
  },
  {
   "cell_type": "code",
   "execution_count": null,
   "metadata": {
    "deletable": false,
    "editable": false
   },
   "outputs": [],
   "source": [
    "# Função para calcular o coeficiente de curtose\n",
    "curtose <- function(x)\n",
    "{\n",
    "   x  = na.omit(x)\n",
    "   m2 = mean((x-mean(x))^2)\n",
    "   z  = (x-mean(x))/sqrt(m2)\n",
    "   b2 = mean(z^4) - 3\n",
    "   return(b2)   \n",
    "}"
   ]
  },
  {
   "cell_type": "markdown",
   "metadata": {
    "deletable": false,
    "editable": false
   },
   "source": [
    "***\n",
    "### Exercício 2\n",
    "Obtenha o coeficinte de curtose da variável **salário**. Você consegue interpretar o valor obtido?\n",
    "***"
   ]
  },
  {
   "cell_type": "code",
   "execution_count": null,
   "metadata": {},
   "outputs": [],
   "source": [
    "# Utilize essa célula para calcular a curtose\n"
   ]
  },
  {
   "cell_type": "code",
   "execution_count": null,
   "metadata": {},
   "outputs": [],
   "source": [
    "# Escreva a sua interpretação após o símbolo # abaixo\n",
    "#"
   ]
  },
  {
   "cell_type": "markdown",
   "metadata": {
    "deletable": false,
    "editable": false
   },
   "source": [
    "***\n",
    "## 3) Quantis\n",
    "Nesta etapa você aprenderá a calcular **quantis** de qualquer ordem, obter o **diagrama dos cinco números**, plotar **gráficos de quantis** e construir **boxplots**.\n",
    "\n",
    "### 3.1) Cálculo de quantis e diagrama dos cinco números\n",
    "A função quantile() é utilizada para calcular quantis de ordem $p$ no R. No primeiro argumento da função informamos a variável e no segundo o valor de $p$. Vamos calcular o quantil de ordem 0,25 da variável **salário**. Execute a célula a seguir: "
   ]
  },
  {
   "cell_type": "code",
   "execution_count": null,
   "metadata": {
    "deletable": false,
    "editable": false
   },
   "outputs": [],
   "source": [
    "quantile(s,0.25)"
   ]
  },
  {
   "cell_type": "markdown",
   "metadata": {
    "deletable": false,
    "editable": false
   },
   "source": [
    "Observe que o quantil de ordem 0,50 coincide com a mediana. Execute a célula a seguir:"
   ]
  },
  {
   "cell_type": "code",
   "execution_count": null,
   "metadata": {
    "deletable": false,
    "editable": false
   },
   "outputs": [],
   "source": [
    "quantile(s,0.5) # quantil de ordem 0,5\n",
    "median(s)       # mediana"
   ]
  },
  {
   "cell_type": "markdown",
   "metadata": {
    "deletable": false,
    "editable": false
   },
   "source": [
    "O **diagrama dos cinco números** visto em aula é obtido facilmente no R por meio da funcão summary(). Na verdade o R fornece seis valores, pois informa também a média. Execute a célula a seguir para obter este diagrama para a variável **salário**:"
   ]
  },
  {
   "cell_type": "code",
   "execution_count": null,
   "metadata": {
    "deletable": false,
    "editable": false
   },
   "outputs": [],
   "source": [
    "summary(s)"
   ]
  },
  {
   "cell_type": "markdown",
   "metadata": {
    "deletable": false,
    "editable": false
   },
   "source": [
    "### 3.2) Gráfico de quantis\n",
    "Para obter gráficos de quantis, devemos primeiro criar uma sequência de valores de $p$ no intervalo $[0,1]$ e que serão dispostos no eixo das abscissas do gráfico. Execute a célula a seguir:"
   ]
  },
  {
   "cell_type": "code",
   "execution_count": null,
   "metadata": {
    "deletable": false,
    "editable": false
   },
   "outputs": [],
   "source": [
    "# Criando uma sequência de proporções que começa em 0 e termina em 1 com saltos de tamanho 0,05\n",
    "# Tal sequência será armazenada no vetor \"props\"\n",
    "props = seq(0,1,0.05)\n",
    "props"
   ]
  },
  {
   "cell_type": "markdown",
   "metadata": {
    "deletable": false,
    "editable": false
   },
   "source": [
    "Vamos agora calcular os quantis correspondentes para a variável **salário** e armazená-los no vetor \"quant\". Execute a célula a seguir:"
   ]
  },
  {
   "cell_type": "code",
   "execution_count": null,
   "metadata": {
    "deletable": false,
    "editable": false
   },
   "outputs": [],
   "source": [
    "quant = quantile(s,props)\n",
    "quant"
   ]
  },
  {
   "cell_type": "markdown",
   "metadata": {
    "deletable": false,
    "editable": false
   },
   "source": [
    "Agora podemos criar o gráfico por meio da função plot() Execute a célula a seguir:"
   ]
  },
  {
   "cell_type": "code",
   "execution_count": null,
   "metadata": {
    "deletable": false,
    "editable": false
   },
   "outputs": [],
   "source": [
    "plot(props, quant) # valores em x como props e valores em y como quant"
   ]
  },
  {
   "cell_type": "markdown",
   "metadata": {
    "deletable": false,
    "editable": false
   },
   "source": [
    "***\n",
    "### Exercício 3\n",
    "Construa um gráfico de quantis para a variável **idade (em anos)**.\n",
    "***"
   ]
  },
  {
   "cell_type": "code",
   "execution_count": null,
   "metadata": {},
   "outputs": [],
   "source": []
  },
  {
   "cell_type": "code",
   "execution_count": null,
   "metadata": {},
   "outputs": [],
   "source": []
  },
  {
   "cell_type": "code",
   "execution_count": null,
   "metadata": {},
   "outputs": [],
   "source": []
  },
  {
   "cell_type": "markdown",
   "metadata": {
    "deletable": false,
    "editable": false
   },
   "source": [
    "***\n",
    "## 4) Box plot\n",
    "Como na construção do histograma, o R fornece uma função simples para obtenção do **box plot**. Vamos construir um box plot para a variável **salário**. Execute as células a seguir:"
   ]
  },
  {
   "cell_type": "code",
   "execution_count": null,
   "metadata": {
    "deletable": false,
    "editable": false
   },
   "outputs": [],
   "source": [
    "# box plot tradicional na vertical\n",
    "boxplot(s)"
   ]
  },
  {
   "cell_type": "code",
   "execution_count": null,
   "metadata": {
    "deletable": false,
    "editable": false
   },
   "outputs": [],
   "source": [
    "# box plot na horizontal\n",
    "boxplot(s, horizontal = TRUE)"
   ]
  },
  {
   "cell_type": "markdown",
   "metadata": {
    "deletable": false,
    "editable": false
   },
   "source": [
    "Para comparar box plots, basta adicionar as variáveis no argumento da função. Por exemplo, vamos comparar a variável **salário** com a variável **idade (em anos)**. Para isso, devemos **padronizar** as variáveis, pois as mesmas possuem escalas diferentes. Dados $x_1,x_2,\\ldots,x_n$, dados de uma variável $X$, uma possível padronização é dada por:\n",
    "\n",
    "$$z_i =\\frac{x_i-\\bar{x}}{\\mbox{dp}(x)}, \\ \\ (i=1,2,\\ldots,n),$$\n",
    "\n",
    "onde $\\mbox{dp}(x)$ é o desvio padrão dos dados. A padronização acima também é dita **normalização** dos dados, e faz com que estes fiquem com média 0 e desvio padrão 1. Execute a célula a seguir:"
   ]
  },
  {
   "cell_type": "code",
   "execution_count": null,
   "metadata": {
    "deletable": false,
    "editable": false
   },
   "outputs": [],
   "source": [
    "id = tab2_1$idade_anos      # armezenando os dados da variável idade (em anos) num vetor id\n",
    "\n",
    "s_p = (s-mean(s))/sd(x)     # padronização da variável salário\n",
    "\n",
    "id_p = (id-mean(id))/sd(id) # padronização da variável idade (em anos)\n",
    "\n",
    "boxplot(s_p, id_p)"
   ]
  },
  {
   "cell_type": "markdown",
   "metadata": {
    "deletable": false,
    "editable": false
   },
   "source": [
    "***\n",
    "### Exercício 4\n",
    "Em aula, contruímos um box plot para os dados sobre as populações dos 15 municípios mais populosos do Brasil. Os dados completos (30 municípios) encontram-se na tabela \"cd_municipios\" que faz parte dos dados carregados na memória no início dessa atividade prática. Acesse esses dados e utilizando uma célula para cada item:\n",
    "\n",
    "* (a) Obtenha um diagrama dos cinco números e a média.\n",
    "* (b) Calcule a variância e o desvio padrão.\n",
    "* (c) Obtenha o Histograma.\n",
    "* (d) Obtenha um gráfico de quantis\n",
    "* (e) Obtenha o box plot.\n",
    "* (f) Interprete os resultados.\n",
    "***"
   ]
  },
  {
   "cell_type": "code",
   "execution_count": null,
   "metadata": {},
   "outputs": [],
   "source": [
    "# Obtenha aqui o diagrama dos cinco números e a média\n"
   ]
  },
  {
   "cell_type": "code",
   "execution_count": null,
   "metadata": {},
   "outputs": [],
   "source": [
    "# Calcule aqui a variância e o desvio padrão\n"
   ]
  },
  {
   "cell_type": "code",
   "execution_count": null,
   "metadata": {},
   "outputs": [],
   "source": [
    "# Faça aqui seu histograma\n"
   ]
  },
  {
   "cell_type": "code",
   "execution_count": null,
   "metadata": {},
   "outputs": [],
   "source": [
    "# Faça aqui seu gráfico de quantis\n"
   ]
  },
  {
   "cell_type": "code",
   "execution_count": null,
   "metadata": {},
   "outputs": [],
   "source": [
    "# Faça aqui seu boxplot\n"
   ]
  },
  {
   "cell_type": "code",
   "execution_count": null,
   "metadata": {},
   "outputs": [],
   "source": [
    "# Escreva após o simbolo # sua interpretação dos resultados\n",
    "#"
   ]
  },
  {
   "cell_type": "markdown",
   "metadata": {
    "deletable": false,
    "editable": false
   },
   "source": [
    "***\n",
    "## Parabéns, você concluiu esta atividade prática!\n",
    "\n",
    "<b> <font color='red'>ATENÇÃO! Sugiro imprimir o conteúdo deste notebook para enventuais consultas futuras, pois assim que o navegador for fechado os códigos serão apagados. Para imprimir, tecle Ctrl+P e salve como um arquivo PDF.</font></b>"
   ]
  }
 ],
 "metadata": {
  "kernelspec": {
   "display_name": "R",
   "language": "R",
   "name": "ir"
  },
  "language_info": {
   "codemirror_mode": "r",
   "file_extension": ".r",
   "mimetype": "text/x-r-source",
   "name": "R",
   "pygments_lexer": "r",
   "version": "3.6.1"
  }
 },
 "nbformat": 4,
 "nbformat_minor": 4
}
