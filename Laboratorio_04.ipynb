{
 "cells": [
  {
   "cell_type": "markdown",
   "metadata": {
    "deletable": false,
    "editable": false
   },
   "source": [
    "<a href=\"http://www.unioeste.br\"><img src=\"https://www5.unioeste.br/portalunioeste/templates/tlpcampus/images/logoUnioeste.png\" align=\"right\"></a>\n",
    "\n",
    "<h1><center>Atividade Prática em R - Transformações</center></h1>\n",
    "\n",
    "<center>Prof.Dr. Plinio Andrade</center>"
   ]
  },
  {
   "cell_type": "markdown",
   "metadata": {
    "deletable": false,
    "editable": false
   },
   "source": [
    "Nesta atividade prática você aprenderá a utilizar o R para:\n",
    "\n",
    "* transformar uma variável para torná-la \"mais simétrica\".\n",
    "\n",
    "<b> <font color='red'>ATENÇÃO!</font></b> sempre que este arquivo for reaberto você deverá executar todas as células de código novamente. Cada célula ativa é executada pressionando o botão <b>Run</b> no menu ou teclando <b>Ctrl+Enter</b> (persistindo dúvidas, assista a videoaula de apresentação sobre notebooks).\n",
    "\n",
    "Caso necessite criar mais células de código, basta ir ao menu Insert.\n",
    "\n",
    "***\n",
    "\n",
    "## 1) Sobre os dados\n",
    "\n",
    "Novamente, utilizaremos nesta prática os dados de Bussab & Morettin (2006). Vamos armazená-los na memória executando a célula a seguir:"
   ]
  },
  {
   "cell_type": "code",
   "execution_count": null,
   "metadata": {
    "deletable": false,
    "editable": false
   },
   "outputs": [],
   "source": [
    "arquivo = url('https://www.ime.usp.br/~pam/dados.RData')\n",
    "load(arquivo)"
   ]
  },
  {
   "cell_type": "markdown",
   "metadata": {
    "deletable": false,
    "editable": false
   },
   "source": [
    "Os dados que utilizaremos como exemplo estão armazenado em **cd_municipios**, que fornecem as populações (em 10.000 habitantes) dos 30 municípios mais populosos do Brasil – **Fonte**: IBGE, Contagem da População, 1996 (em aula utilizamos os 15 mais populosos para construir um boxplot). Vamos visualizar os dados executando a célula a seguir:"
   ]
  },
  {
   "cell_type": "code",
   "execution_count": null,
   "metadata": {
    "deletable": false,
    "editable": false
   },
   "outputs": [],
   "source": [
    "cd_municipios"
   ]
  },
  {
   "cell_type": "markdown",
   "metadata": {
    "deletable": false,
    "editable": false
   },
   "source": [
    "Vamos tornar a coluna população acessível pelo seu nome, neste caso **populacao**. Execute a célula a seguir:"
   ]
  },
  {
   "cell_type": "code",
   "execution_count": null,
   "metadata": {
    "deletable": false,
    "editable": false
   },
   "outputs": [],
   "source": [
    "attach(cd_municipios)"
   ]
  },
  {
   "cell_type": "markdown",
   "metadata": {
    "deletable": false,
    "editable": false
   },
   "source": [
    "***\n",
    "## 2) Transformações\n",
    "Vários procedimentos estatísticos são baseados na suposição de que os dados provêm de uma distribuição normal (que será apresentada posteriormente) ou então mais ou menos simétrica. Tal suposição nem sempre é verificada na prática pois, além de assimetria, os dados podem apresentar valores atípicos. Nesses casos, podemos transformar os dados de modo a se obter uma distribuição mais simétrica e próxima da normal. Uma família de transformações bastante utilizada na prática é dada por\n",
    "\n",
    "$$\n",
    "x^{(p)}=\\left\\{\\begin{array}{ll}\n",
    "                          x^p,   & \\mbox{se} \\ \\ p>0, \\\\\n",
    "                          ln(x), & \\mbox{se} \\ \\ p=0, \\\\\n",
    "                          -x^p,  & \\mbox{se} \\ \\ p<0.\n",
    "                        \\end{array}\\right.\n",
    "$$\n",
    "\n",
    "Diversos valores de $p$ devem ser testados, geralmente variando no conjunto $\\{\\ldots,-3,-2,-1,-1/2,-1/3,-1/4,0,1/4,1/3,1/2,1,2,3,\\ldots\\}$. Um valor adequado para $p$ é obtido avaliando a simetria dos dados por meio das técnicas apresentadas anteriormente.\n",
    "\n",
    "Para dados positivos, a distribuição dos dados tende a ser assimétrica à direita e a transformação acima com $0<p<1$ é apropriada. Para distribuições assimétricas à esquerda, é usual tomar $p>1$.\n",
    "\n",
    "Note que o histograma da variável **populacao** é claramente assimétrico (à direita). Execute a célula a seguir:"
   ]
  },
  {
   "cell_type": "code",
   "execution_count": null,
   "metadata": {
    "deletable": false,
    "editable": false
   },
   "outputs": [],
   "source": [
    "hist(populacao)"
   ]
  },
  {
   "cell_type": "markdown",
   "metadata": {
    "deletable": false,
    "editable": false
   },
   "source": [
    "Vamos transformar os dados utilizando a fórmula anterior com $p\\in\\{0,1/4,1/3,1/2\\}$. Para isso, vamos criar $4$ novas variáveis que chamaremos, para cada valor de $p$, de $x,y,z$ e $w$. Execute a célula a seguir:"
   ]
  },
  {
   "cell_type": "code",
   "execution_count": null,
   "metadata": {
    "deletable": false,
    "editable": false
   },
   "outputs": [],
   "source": [
    "x = log(populacao)\n",
    "y = populacao^(1/4)\n",
    "z = populacao^(1/3)\n",
    "w = populacao^(1/2)"
   ]
  },
  {
   "cell_type": "markdown",
   "metadata": {
    "deletable": false,
    "editable": false
   },
   "source": [
    "Podemos avaliar a simetria dos dados por meio do histograma. Vamos plotar os histogramas dos dados transformados. Podemos produzir cada gráfico individualmente, mas para facilitar a comparação vamos dispô-los na mesma janela. Execute a célula a seguir:"
   ]
  },
  {
   "cell_type": "code",
   "execution_count": null,
   "metadata": {
    "deletable": false,
    "editable": false
   },
   "outputs": [],
   "source": [
    "par(mfrow=c(2,2)) # dividindo a janela de gráficos em 4 partes (duas linhas e duas colunas)\n",
    "hist(x, main=\"p = 0\")\n",
    "hist(y, main=\"p = 1/4\")\n",
    "hist(z, main=\"p = 1/3\")\n",
    "hist(w, main=\"p = 1/2\")"
   ]
  },
  {
   "cell_type": "markdown",
   "metadata": {
    "deletable": false,
    "editable": false
   },
   "source": [
    "Nota-se que a transformação logarítimica ($p=0$) e cúbica ($p=3$) são as que tornaram os dados mais simétricos."
   ]
  },
  {
   "cell_type": "markdown",
   "metadata": {
    "deletable": false,
    "editable": false
   },
   "source": [
    "***\n",
    "### Exercício\n",
    "Considere a variável salário da tabela 2.1 (você deverá carregar esse conjunto de dados). Utilizando $p\\in\\{0,1/4,1/3,1/2\\}$, obtenha as transformações correspondentes e avalie a simetria dos dados transformados por meio de gráficos de quantis. \n",
    "***"
   ]
  },
  {
   "cell_type": "code",
   "execution_count": null,
   "metadata": {},
   "outputs": [],
   "source": []
  },
  {
   "cell_type": "code",
   "execution_count": null,
   "metadata": {},
   "outputs": [],
   "source": []
  },
  {
   "cell_type": "code",
   "execution_count": null,
   "metadata": {},
   "outputs": [],
   "source": []
  },
  {
   "cell_type": "code",
   "execution_count": null,
   "metadata": {},
   "outputs": [],
   "source": []
  },
  {
   "cell_type": "markdown",
   "metadata": {
    "deletable": false,
    "editable": false
   },
   "source": [
    "***\n",
    "## Parabéns, você concluiu esta atividade prática!\n",
    "\n",
    "<b> <font color='red'>ATENÇÃO! Sugiro imprimir o conteúdo deste notebook para enventuais consultas futuras, pois assim que o navegador for fechado os códigos serão apagados. Para imprimir, tecle Ctrl+P e salve como um arquivo PDF.</font></b>"
   ]
  }
 ],
 "metadata": {
  "kernelspec": {
   "display_name": "R",
   "language": "R",
   "name": "ir"
  },
  "language_info": {
   "codemirror_mode": "r",
   "file_extension": ".r",
   "mimetype": "text/x-r-source",
   "name": "R",
   "pygments_lexer": "r",
   "version": "3.6.1"
  }
 },
 "nbformat": 4,
 "nbformat_minor": 4
}
