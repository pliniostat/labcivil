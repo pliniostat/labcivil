{
 "cells": [
  {
   "cell_type": "markdown",
   "metadata": {
    "deletable": false,
    "editable": false
   },
   "source": [
    "<a href=\"http://www.unioeste.br\"><img src=\"https://www5.unioeste.br/portalunioeste/templates/tlpcampus/images/logoUnioeste.png\" align=\"right\"></a>\n",
    "\n",
    "<h1><center>Atividade Prática em R - Representações Gráficas, Medidas de Posição e Dispersão</center></h1>\n",
    "\n",
    "<center>Prof.Dr. Plinio Andrade</center>"
   ]
  },
  {
   "cell_type": "markdown",
   "metadata": {
    "deletable": false,
    "editable": false
   },
   "source": [
    "Nesta atividade prática você aprenderá a utilizar o R para:\n",
    "\n",
    "* Obter diagramas de pizza, gráficos de barras e histogramas;\n",
    "* Calcular a moda, mediana e média dos dados como medidas de posição;\n",
    "* Calcular a variância, o desvio padrão e o coeficiente de variação dos dados como medidas de dispersão.\n",
    "\n",
    "<b> <font color='red'>ATENÇÃO!</font></b> sempre que este arquivo for reaberto você deverá executar todas as células de código novamente. Cada célula ativa é executada pressionando o botão <b>Run</b> no menu ou teclando <b>Ctrl+Enter</b> (persistindo dúvidas, assista a videoaula de apresentação sobre notebooks).\n",
    "\n",
    "Caso necessite criar mais células de código, basta ir ao menu Insert.\n",
    "\n",
    "***\n",
    "\n",
    "## 1) Sobre os dados\n",
    "\n",
    "Novamente, utilizaremos nesta prática os dados de Bussab & Morettin (2006). Vamos armazená-los na memória executando a célula a seguir:"
   ]
  },
  {
   "cell_type": "code",
   "execution_count": null,
   "metadata": {
    "deletable": false,
    "editable": false
   },
   "outputs": [],
   "source": [
    "arquivo = url('https://www.ime.usp.br/~pam/dados.RData')  # carregando o arquivo de dados\n",
    "load(arquivo)"
   ]
  },
  {
   "cell_type": "code",
   "execution_count": null,
   "metadata": {
    "deletable": false,
    "editable": false
   },
   "outputs": [],
   "source": [
    "attach(tab2_1) # tornando as colunas da tabela 2.1 acessíveis pelos seus respectivos nomes"
   ]
  },
  {
   "cell_type": "markdown",
   "metadata": {
    "deletable": false,
    "editable": false
   },
   "source": [
    "***\n",
    "## 2) Representações Gráficas\n",
    "Vamos conhecer agora algumas funções para representações gráficas no R."
   ]
  },
  {
   "cell_type": "markdown",
   "metadata": {
    "deletable": false,
    "editable": false
   },
   "source": [
    "### 2.1) Gráfico de Pizza\n",
    "Para esse tipo de gráfico, devemos coletar as frequências (absolutas, relativas, ou porcentagens) da variável de interesse e utilizar a função pie(). Vamos considerar a variável **grau de instrução**. Execute as células a seguir:"
   ]
  },
  {
   "cell_type": "code",
   "execution_count": null,
   "metadata": {
    "deletable": false,
    "editable": false
   },
   "outputs": [],
   "source": [
    "gi = grau_instrucao # armazenando a variável num vetor chamado \"gi\"\n",
    "ni = table(gi)      # frequências absolutas da variável"
   ]
  },
  {
   "cell_type": "code",
   "execution_count": null,
   "metadata": {
    "deletable": false,
    "editable": false
   },
   "outputs": [],
   "source": [
    "pie(ni)             # plotando o gráfico"
   ]
  },
  {
   "cell_type": "markdown",
   "metadata": {
    "deletable": false,
    "editable": false
   },
   "source": [
    "Assim como toda função do R, a função pie() possui diversos parâmetros para aumentar o nível de detalhamento do gráfico. Execute a célula a seguir para visualizar uma versão formatada (**OPCIONAL**)."
   ]
  },
  {
   "cell_type": "code",
   "execution_count": null,
   "metadata": {
    "deletable": false,
    "editable": false
   },
   "outputs": [],
   "source": [
    "fi   = prop.table(ni) # frequências relativas da variável\n",
    "p_fi = 100*fi         # frequências em porcentagens\n",
    "p_fi = round(p_fi, 1) # arredondando as porcentagens para uma casa decimal\n",
    "\n",
    "# plotando o gráfico\n",
    "pie(p_fi, labels = paste(c(\"fundamental\",\"médio\",\"superior\"),\" (\", as.character(p_fi),\"%)\", sep = \"\"), main = \"Versão detalhada (formatada)\")"
   ]
  },
  {
   "cell_type": "markdown",
   "metadata": {
    "deletable": false,
    "editable": false
   },
   "source": [
    "***\n",
    "### Exercício 1\n",
    "Obtenha um gráfico de pizza simples ou detalhado para a variável **região de procedência**.\n",
    "***"
   ]
  },
  {
   "cell_type": "code",
   "execution_count": null,
   "metadata": {},
   "outputs": [],
   "source": []
  },
  {
   "cell_type": "code",
   "execution_count": null,
   "metadata": {},
   "outputs": [],
   "source": []
  },
  {
   "cell_type": "code",
   "execution_count": null,
   "metadata": {},
   "outputs": [],
   "source": []
  },
  {
   "cell_type": "markdown",
   "metadata": {
    "deletable": false,
    "editable": false
   },
   "source": [
    "### 2.2) Gráfico de Barras\n",
    "Vamos novamente coletar as informações obtidas pela tabela de distribuição de frequências e representá-la graficamente por meio da função barplot(). Considere novamente a variável **grau de instrução** (armazenada no vetor \"gi\"). Execute as células a seguir:"
   ]
  },
  {
   "cell_type": "code",
   "execution_count": null,
   "metadata": {
    "deletable": false,
    "editable": false
   },
   "outputs": [],
   "source": [
    "barplot(ni) # versão não formatada"
   ]
  },
  {
   "cell_type": "markdown",
   "metadata": {
    "deletable": false,
    "editable": false
   },
   "source": [
    "Podemos formatar o gráfico obtido acima com o seguinte comando (**OPCIONAL**):"
   ]
  },
  {
   "cell_type": "code",
   "execution_count": null,
   "metadata": {
    "deletable": false,
    "editable": false
   },
   "outputs": [],
   "source": [
    "# versão com alguma formatação\n",
    "barplot(ni, ylab=\"Frequência\", names.arg = c(\"Fundamental\",\"Médio\", \"Superior\"), ylim=c(0,20), las=1)"
   ]
  },
  {
   "cell_type": "markdown",
   "metadata": {
    "deletable": false,
    "editable": false
   },
   "source": [
    "\n",
    "### Exercício 2\n",
    "Construa um gráfico de barras para as variáveis **número de filhos** e **salário**. A formatação é opcional. **Dica:** Lembre-se que para a variável **salário** você deverá construir os intervalos de classe e você já fez isso na prática \"Laboratorio_01\"."
   ]
  },
  {
   "cell_type": "code",
   "execution_count": null,
   "metadata": {},
   "outputs": [],
   "source": []
  },
  {
   "cell_type": "code",
   "execution_count": null,
   "metadata": {},
   "outputs": [],
   "source": []
  },
  {
   "cell_type": "code",
   "execution_count": null,
   "metadata": {},
   "outputs": [],
   "source": []
  },
  {
   "cell_type": "markdown",
   "metadata": {
    "deletable": false,
    "editable": false
   },
   "source": [
    "### 2.3) Histogramas\n",
    "A construção de histogramas é muito simples e direta no R. A escolha dos intervalos de classe para variáveis contínuas é automática, embora seja possível escolher arbitrariamente se necessário. Vamos construir um histograma para a variável **salário** considerando suas versões em frequência absoluta e relativa. Vamos também construir uma versão com os mesmos intervalos de classe que foram escolhidos na aula. Execute as células a seguir:"
   ]
  },
  {
   "cell_type": "code",
   "execution_count": null,
   "metadata": {
    "deletable": false,
    "editable": false
   },
   "outputs": [],
   "source": [
    "s = salario         # armazenando os dados da variável salário no vetor \"s\""
   ]
  },
  {
   "cell_type": "code",
   "execution_count": null,
   "metadata": {
    "deletable": false,
    "editable": false
   },
   "outputs": [],
   "source": [
    "hist(s)             # Histograma em frequência absoluta"
   ]
  },
  {
   "cell_type": "code",
   "execution_count": null,
   "metadata": {
    "deletable": false,
    "editable": false
   },
   "outputs": [],
   "source": [
    "hist(s, freq=FALSE) # Histograma em frequência relativa (note que os valores do eixo y mudam)"
   ]
  },
  {
   "cell_type": "markdown",
   "metadata": {
    "deletable": false,
    "editable": false
   },
   "source": [
    "O argumento \"breaks\" da função hist() serve para determinar manualmente os intervalos de classe. Vamos criar primeiro uma sequência de valores que definem os extremos de cada intervalo executando a célula a seguir:"
   ]
  },
  {
   "cell_type": "code",
   "execution_count": null,
   "metadata": {
    "deletable": false,
    "editable": false
   },
   "outputs": [],
   "source": [
    "extremos = seq(4,24,by=4)\n",
    "extremos"
   ]
  },
  {
   "cell_type": "markdown",
   "metadata": {
    "deletable": false,
    "editable": false
   },
   "source": [
    "Agora podemos construir o histograma desejado por meio do seguinte comando:"
   ]
  },
  {
   "cell_type": "code",
   "execution_count": null,
   "metadata": {
    "deletable": false,
    "editable": false
   },
   "outputs": [],
   "source": [
    "hist(s, breaks = extremos, freq = FALSE)"
   ]
  },
  {
   "cell_type": "markdown",
   "metadata": {
    "deletable": false,
    "editable": false
   },
   "source": [
    "A célula a seguir contém, para fins ilustrativos, uma versão altamente editada do histograma: "
   ]
  },
  {
   "cell_type": "code",
   "execution_count": null,
   "metadata": {
    "deletable": false,
    "editable": false
   },
   "outputs": [],
   "source": [
    "## Versão altamente editada\n",
    "fig  = hist(s, breaks = extremos, right=FALSE, plot=F)\n",
    "aux  = with(fig, 100 * density*diff(breaks)[1])\n",
    "labs = paste(round(aux), \"%\", sep=\"\")\n",
    "\n",
    "plot(fig, \n",
    "     freq = FALSE, labels = labs, las = 1,\n",
    "     ylab=\"Densidade de Frequência Relativa\",\n",
    "     xlab=\"Salário\",\n",
    "     col=\"darkgrey\",\n",
    "     border=\"white\",\n",
    "     main=\"Histograma da variável salário\",\n",
    "     xlim=c(0,24), xaxp=c(0,24,6),\n",
    "     ylim=c(0,.1))"
   ]
  },
  {
   "cell_type": "markdown",
   "metadata": {
    "deletable": false,
    "editable": false
   },
   "source": [
    "***\n",
    "### Exercício 3\n",
    "Obtenha um histograma para a variável **número de filhos**. A formatação é opcional.\n",
    "***"
   ]
  },
  {
   "cell_type": "code",
   "execution_count": null,
   "metadata": {},
   "outputs": [],
   "source": []
  },
  {
   "cell_type": "code",
   "execution_count": null,
   "metadata": {},
   "outputs": [],
   "source": []
  },
  {
   "cell_type": "code",
   "execution_count": null,
   "metadata": {},
   "outputs": [],
   "source": []
  },
  {
   "cell_type": "markdown",
   "metadata": {
    "deletable": false,
    "editable": false
   },
   "source": [
    "***\n",
    "## 3) Medidas Resumo - Medidas de Posição\n",
    "\n",
    "Nesta etapa você irá aprender a calcular diversas medidas resumo no R.\n",
    "\n",
    "### 3.1) Moda\n",
    "Não existe no R uma função para se calcular a moda para variáveis qualitativas e quantitativas discretas. A célula a seguir contém uma implementação bem simples para calcular modas. Execute-a para poder prosseguir."
   ]
  },
  {
   "cell_type": "code",
   "execution_count": null,
   "metadata": {
    "deletable": false,
    "editable": false
   },
   "outputs": [],
   "source": [
    "moda = function(x)\n",
    "{\n",
    "   z   = table(as.vector(x))\n",
    "   out = names(z)[z == max(z)]\n",
    "   ifelse(length(out) == length(x), return(\"conjunto amodal\"), return(expr=c(\"A moda é:\", out)))\n",
    "}"
   ]
  },
  {
   "cell_type": "markdown",
   "metadata": {
    "deletable": false,
    "editable": false
   },
   "source": [
    "Vamos considerar 3 conjuntos de dados artificiais. Um homogêneo (moda única), um bimodal e um amodal (sem moda). Execute a célula a seguir:"
   ]
  },
  {
   "cell_type": "code",
   "execution_count": null,
   "metadata": {
    "deletable": false,
    "editable": false
   },
   "outputs": [],
   "source": [
    "dados1 = c(9,2,2,2,3,3,5,10)       # dados unimodal\n",
    "dados2 = c(1,1,2,2,2,3,3,3,5,6,15) # dados bimodal\n",
    "dados3 = c(1,2,3,4,5,10)           # dados amodal\n",
    "\n",
    "moda(dados1)\n",
    "moda(dados2)\n",
    "moda(dados3)"
   ]
  },
  {
   "cell_type": "markdown",
   "metadata": {
    "deletable": false,
    "editable": false
   },
   "source": [
    "\n",
    "### Exercício 4\n",
    "Utilize a função implementada anteriormente para calcular a moda das variáveis **número de filhos** e **grau de instrução**. Obtenha também uma aproximação para a moda da variável **salário** (Dica: lembra-se do vetor \"int\" criado no Laboratorio_01 para a variável salário?). Se necessário crie mais células (**Menu -> Insert -> Insert Cell Below**).\n"
   ]
  },
  {
   "cell_type": "code",
   "execution_count": null,
   "metadata": {},
   "outputs": [],
   "source": []
  },
  {
   "cell_type": "code",
   "execution_count": null,
   "metadata": {},
   "outputs": [],
   "source": []
  },
  {
   "cell_type": "code",
   "execution_count": null,
   "metadata": {},
   "outputs": [],
   "source": []
  },
  {
   "cell_type": "markdown",
   "metadata": {
    "deletable": false,
    "editable": false
   },
   "source": [
    "### 3.2) Mediana\n",
    "\n",
    "A mediana é calculada facilmente no R por meio da função median(). Tal função só funciona com dados numéricos. Vamos calcular a mediana da variável **salário**. Execute a célula a seguir:"
   ]
  },
  {
   "cell_type": "code",
   "execution_count": null,
   "metadata": {
    "deletable": false,
    "editable": false
   },
   "outputs": [],
   "source": [
    "median(s)"
   ]
  },
  {
   "cell_type": "markdown",
   "metadata": {
    "deletable": false,
    "editable": false
   },
   "source": [
    "Observe novamente a tabela que contém os dados da Cia. MB (tabela 2.1). Note que a variável número de filhos possui entradas do tipo \"NA\" (not available), ou seja, por alguma razão o funcionário não respondeu quantos filhos possui. Podemos utilizar o argumento \"na.rm = TRUE\" em várias funções do R para eliminar essas entradas faltantes e calcular medidas levando em conta apenas os valores informados. Execute a célula a seguir:"
   ]
  },
  {
   "cell_type": "code",
   "execution_count": null,
   "metadata": {
    "deletable": false,
    "editable": false
   },
   "outputs": [],
   "source": [
    "median(n_filhos, na.rm = TRUE)"
   ]
  },
  {
   "cell_type": "markdown",
   "metadata": {
    "deletable": false,
    "editable": false
   },
   "source": [
    "***\n",
    "### Exercício 5\n",
    "Obtenha a mediana para a variável **idade** (em anos)\n",
    "***"
   ]
  },
  {
   "cell_type": "code",
   "execution_count": null,
   "metadata": {},
   "outputs": [],
   "source": []
  },
  {
   "cell_type": "code",
   "execution_count": null,
   "metadata": {},
   "outputs": [],
   "source": []
  },
  {
   "cell_type": "code",
   "execution_count": null,
   "metadata": {},
   "outputs": [],
   "source": []
  },
  {
   "cell_type": "markdown",
   "metadata": {
    "deletable": false,
    "editable": false
   },
   "source": [
    "### 3.3) Média\n",
    "Assim como no caso da mediana, o R fornece um função simples para o cálculo de médias. A sintaxe de tal função é mean(). Novamente, podemos eliminar dados faltantes por meio do argumento \"na.rm = TRUE\". Vamos obter a média da variável **salário**. Execute a célula a seguir:"
   ]
  },
  {
   "cell_type": "code",
   "execution_count": null,
   "metadata": {
    "deletable": false,
    "editable": false
   },
   "outputs": [],
   "source": [
    "mean(s)"
   ]
  },
  {
   "cell_type": "markdown",
   "metadata": {
    "deletable": false,
    "editable": false
   },
   "source": [
    "***\n",
    "### Exercício 6\n",
    "Calcule a média das variáveis **idade** (em anos) e **número de filhos**.\n",
    "***"
   ]
  },
  {
   "cell_type": "code",
   "execution_count": null,
   "metadata": {},
   "outputs": [],
   "source": []
  },
  {
   "cell_type": "code",
   "execution_count": null,
   "metadata": {},
   "outputs": [],
   "source": []
  },
  {
   "cell_type": "code",
   "execution_count": null,
   "metadata": {},
   "outputs": [],
   "source": []
  },
  {
   "cell_type": "markdown",
   "metadata": {
    "deletable": false,
    "editable": false
   },
   "source": [
    "***\n",
    "## 4) Medidas Resumo - Medidas de Dispersão\n",
    "Apresentaremos no que segue as funções para se calcular variância e desvio padrão.\n",
    "\n",
    "### 4.1) Variância e desvio padrão\n",
    "\n",
    "Vimos em aula que a variância de uma variável $X$, cujas observações são denotadas por $x_1,x_2,\\ldots,x_n$ e cuja média é denotada por $\\bar{x}$, é definida por:\n",
    "\n",
    "$$\\mbox{Var}(X)=\\frac{1}{n}\\sum_{i=1}^n (x_i-\\bar{x})^2.$$\n",
    "\n",
    "No entanto, o R considera a seguinte versão dita *não viesada* (por razões técnicas da teoria estatística que não serão tratadas agora):\n",
    "\n",
    "$$\\mbox{Var}(X)=\\frac{1}{n-1}\\sum_{i=1}^n (x_i-\\bar{x})^2.$$\n",
    "\n",
    "De qualquer forma, para dados suficientemente grandes ($n$ grande), a diferença entre as duas fórmulas é praticamente nula. No R, a variância é obtida por meio da função var(). Vamos calcular a variância da variável **salário**. Execute as células a seguir:"
   ]
  },
  {
   "cell_type": "code",
   "execution_count": null,
   "metadata": {
    "deletable": false,
    "editable": false
   },
   "outputs": [],
   "source": [
    "var(s)           # versão obtida pela segunda expressão"
   ]
  },
  {
   "cell_type": "markdown",
   "metadata": {
    "deletable": false,
    "editable": false
   },
   "source": [
    "De agora em diante utilizaremos apenas a versão fornecida pelo R. Para calcular o desvio padrão, basta extrair a raíz quadrada da variância por meio da função sqrt() ou utilizar diretamente a função sd(). Execute as células a seguir: "
   ]
  },
  {
   "cell_type": "code",
   "execution_count": null,
   "metadata": {
    "deletable": false,
    "editable": false
   },
   "outputs": [],
   "source": [
    "sqrt(var(s)) # desvio padrão obtido pela extração da raíz quadrada da variância"
   ]
  },
  {
   "cell_type": "code",
   "execution_count": null,
   "metadata": {
    "deletable": false,
    "editable": false
   },
   "outputs": [],
   "source": [
    "sd(s)        # função para calcular diretamente o desvio padrão"
   ]
  },
  {
   "cell_type": "markdown",
   "metadata": {
    "deletable": false,
    "editable": false
   },
   "source": [
    "***\n",
    "### Exercício 7\n",
    "Calcule a variância e o desvio padrão das variáveis **idade** (em anos) e **número de filhos**. Utilizando a definição apresentada em aula, calcule o **coeficiente de variação** dessas variáveis. Se necessário, insira mais células **(Menu -> Insert ->  Insert Cell Below)**.\n",
    "***"
   ]
  },
  {
   "cell_type": "code",
   "execution_count": null,
   "metadata": {},
   "outputs": [],
   "source": []
  },
  {
   "cell_type": "code",
   "execution_count": null,
   "metadata": {},
   "outputs": [],
   "source": []
  },
  {
   "cell_type": "code",
   "execution_count": null,
   "metadata": {},
   "outputs": [],
   "source": []
  },
  {
   "cell_type": "markdown",
   "metadata": {
    "deletable": false,
    "editable": false
   },
   "source": [
    "***\n",
    "## Parabéns, você concluiu esta atividade prática!\n",
    "\n",
    "<b> <font color='red'>ATENÇÃO! Sugiro imprimir o conteúdo deste notebook para enventuais consultas futuras, pois assim que o navegador for fechado os códigos serão apagados. Para imprimir, tecle Ctrl+P e salve como um arquivo PDF.</font></b>"
   ]
  }
 ],
 "metadata": {
  "kernelspec": {
   "display_name": "R",
   "language": "R",
   "name": "ir"
  },
  "language_info": {
   "codemirror_mode": "r",
   "file_extension": ".r",
   "mimetype": "text/x-r-source",
   "name": "R",
   "pygments_lexer": "r",
   "version": "3.6.1"
  }
 },
 "nbformat": 4,
 "nbformat_minor": 4
}
