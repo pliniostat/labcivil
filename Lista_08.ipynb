{
 "cells": [
  {
   "cell_type": "markdown",
   "metadata": {
    "deletable": false,
    "editable": false
   },
   "source": [
    "<a href=\"http://www.unioeste.br\"><img src=\"https://www5.unioeste.br/portalunioeste/templates/tlpcampus/images/logoUnioeste.png\" align=\"right\"></a>\n",
    "\n",
    "<h1><center>Lista 08 - Associação e Correlação</center></h1>\n",
    "\n",
    "\n",
    "***\n",
    "<b> <font color='red'>ATENÇÃO!</font></b> sempre que este notebook for reaberto você deverá executar todas as células de código novamente. Cada célula **ativa** é executada pressionando o botão <b>Run</b> no menu da parte superior da tela, ou teclando <b>Ctrl+Enter</b>. Caso esteja utilizando um smartphone ou tablet, cada célula terá um botão ao lado para ser executada. Persistindo dúvidas, assista novamente o video de apresentação sobre notebooks.\n",
    "\n",
    "Caso necessite criar mais células de código, basta ir ao menu Insert.\n",
    "***\n",
    "\n",
    "### Exercício 1\n",
    "\n",
    "Os dados a seguir referem-se à porcentagem da população economicamente ativa empregada no setor primário e o respectivo índice de analfabetismo para algumas regiões metropolitadas brasileiras. As variáveis são as seguintes:\n",
    "\n",
    "* **RM**: região metropolitana;\n",
    "* **SP**: setor primário;\n",
    "* **IA**: índice de analfabetismo.\n",
    "\n",
    "**Fonte:** Indicadores Sociais para Áreas Urbanas - IBGE - 1977."
   ]
  },
  {
   "cell_type": "code",
   "execution_count": null,
   "metadata": {
    "deletable": false,
    "editable": false
   },
   "outputs": [],
   "source": [
    "dados1 = read.table(\"ex11pg90.csv\", header = TRUE, sep = \";\", dec = \",\")\n",
    "attach(dados1)\n",
    "dados1"
   ]
  },
  {
   "cell_type": "markdown",
   "metadata": {
    "deletable": false,
    "editable": false
   },
   "source": [
    "a) Obtenha o diagrama de dispersão para as variáveis **SP** e **IA**. Você acha que existe dependência linear entre as duas variáveis? Justifique."
   ]
  },
  {
   "cell_type": "code",
   "execution_count": null,
   "metadata": {},
   "outputs": [],
   "source": []
  },
  {
   "cell_type": "markdown",
   "metadata": {
    "deletable": false,
    "editable": false
   },
   "source": [
    "b) Calcule o coeficiente de correlação."
   ]
  },
  {
   "cell_type": "code",
   "execution_count": null,
   "metadata": {},
   "outputs": [],
   "source": []
  },
  {
   "cell_type": "markdown",
   "metadata": {
    "deletable": false,
    "editable": false
   },
   "source": [
    "c) Existe alguma região com comportamento diferente das demais? Se existe, elimine o valor correspondente e recalcule o coeficiente de correlação."
   ]
  },
  {
   "cell_type": "code",
   "execution_count": null,
   "metadata": {},
   "outputs": [],
   "source": []
  },
  {
   "cell_type": "code",
   "execution_count": null,
   "metadata": {},
   "outputs": [],
   "source": []
  },
  {
   "cell_type": "code",
   "execution_count": null,
   "metadata": {},
   "outputs": [],
   "source": []
  },
  {
   "cell_type": "markdown",
   "metadata": {
    "deletable": false,
    "editable": false
   },
   "source": [
    "### Exercício 2\n",
    "Considere novamente os dados tabela 2.1."
   ]
  },
  {
   "cell_type": "code",
   "execution_count": null,
   "metadata": {
    "deletable": false,
    "editable": false
   },
   "outputs": [],
   "source": [
    "arquivo = url('https://www.ime.usp.br/~pam/dados.RData')\n",
    "load(arquivo)\n",
    "attach(tab2_1)"
   ]
  },
  {
   "cell_type": "markdown",
   "metadata": {
    "deletable": false,
    "editable": false
   },
   "source": [
    "Calcule o grau de associação entre as variáveis **estado civil** e **idade**."
   ]
  },
  {
   "cell_type": "code",
   "execution_count": null,
   "metadata": {},
   "outputs": [],
   "source": []
  },
  {
   "cell_type": "markdown",
   "metadata": {
    "deletable": false,
    "editable": false
   },
   "source": [
    "### Exercício 3\n",
    "Muitas vezes a determinação da capacidade de produção instalada para certo tipo de indústria em certas regiões é um processo difícil e custoso. Como alternativa, pode-se estimar a capacidade de produção através da escolha de uma outra variável de medida mais fácil e que esteja linearmente relacionada com ela.\n",
    "\n",
    "Suponha que foram observados os valores para as variáveis:\n",
    "\n",
    "* **X**: capacidade de produção instalada (em toneladas);\n",
    "* **Y**: potência instalada (em 1000kW);\n",
    "* **Z**: área construída (100m^2)."
   ]
  },
  {
   "cell_type": "code",
   "execution_count": null,
   "metadata": {
    "deletable": false,
    "editable": false
   },
   "outputs": [],
   "source": [
    "dados2 = read.table(\"ex26pg96.csv\", header = TRUE, sep = \";\", dec = \",\")\n",
    "attach(dados2)\n",
    "dados2"
   ]
  },
  {
   "cell_type": "markdown",
   "metadata": {
    "deletable": false,
    "editable": false
   },
   "source": [
    "Com base num critério estatístico, qual das variáveis você escolheria para estimar a capacidade de produção instalada?"
   ]
  },
  {
   "cell_type": "code",
   "execution_count": null,
   "metadata": {},
   "outputs": [],
   "source": []
  },
  {
   "cell_type": "code",
   "execution_count": null,
   "metadata": {},
   "outputs": [],
   "source": []
  },
  {
   "cell_type": "code",
   "execution_count": null,
   "metadata": {},
   "outputs": [],
   "source": []
  },
  {
   "cell_type": "markdown",
   "metadata": {
    "deletable": false,
    "editable": false
   },
   "source": [
    "### Exercício 4\n",
    "O departamento de vendas de uma certa companhia foi formado há um ano com a admissão de 15 vendedores. Nessa época, foram observados para cada um dos vendedores os valores de três variáveis:\n",
    "\n",
    "* **T**: Resultado em um teste apropriado para vendedores;\n",
    "* **E**: anos de experiência em vendas;\n",
    "* **G**: conceito do gerente de venda, quanto ao currículo do candidato.\n",
    "\n",
    "O diretor da companhia resolveu agora ampliar o quadro de vendedores e pede sua colaboração para responder a algumas perguntas. Para isso, ele lhe dá informações adicionais sobre duas variáveis:\n",
    "\n",
    "* **V**: volume médio mensal de vendas;\n",
    "* **Z**: zona da capital para a qual o vendedor foi designado.\n",
    "\n",
    "O quadro de resultados é o seguinte:"
   ]
  },
  {
   "cell_type": "code",
   "execution_count": null,
   "metadata": {
    "deletable": false,
    "editable": false
   },
   "outputs": [],
   "source": [
    "dados3 = read.table(\"ex30pg98.csv\", header = TRUE, sep = \";\", dec = \",\")\n",
    "attach(dados3)\n",
    "dados3"
   ]
  },
  {
   "cell_type": "markdown",
   "metadata": {
    "deletable": false,
    "editable": false
   },
   "source": [
    "a) Entre as variáveis **T** e **E** observadas na admissão do pessoal, qual é mais importante para julgar um futuro candidato ao emprego? Justifique."
   ]
  },
  {
   "cell_type": "code",
   "execution_count": null,
   "metadata": {},
   "outputs": [],
   "source": []
  },
  {
   "cell_type": "code",
   "execution_count": null,
   "metadata": {},
   "outputs": [],
   "source": []
  },
  {
   "cell_type": "markdown",
   "metadata": {
    "deletable": false,
    "editable": false
   },
   "source": [
    "b) Qual o grau de associação entre o conceito do gerente e o resultado do teste? E entre zona e vendas?"
   ]
  },
  {
   "cell_type": "code",
   "execution_count": null,
   "metadata": {},
   "outputs": [],
   "source": []
  },
  {
   "cell_type": "markdown",
   "metadata": {
    "deletable": false,
    "editable": false
   },
   "source": [
    "### Exercício 5\n",
    "Os dados a seguir apresentam os preços de fechamento diários de ações da Telebrás (TELE) e os índices IBOVESPA (IBOV), de 2 de janeiro a 24 de fevereiro de 1995:"
   ]
  },
  {
   "cell_type": "code",
   "execution_count": null,
   "metadata": {
    "deletable": false,
    "editable": false
   },
   "outputs": [],
   "source": [
    "dados4 = read.table(\"ex413pg93.csv\", header = TRUE, sep = \";\", dec = \",\")\n",
    "attach(dados4)\n",
    "dados4"
   ]
  },
  {
   "cell_type": "markdown",
   "metadata": {
    "deletable": false,
    "editable": false
   },
   "source": [
    "Os gráficos a seguir ilustram a evolução dessas duas variáveis (IBOVESPA em preto e Telebrás em vermelho). Observe a semelhança nesta evolução."
   ]
  },
  {
   "cell_type": "code",
   "execution_count": null,
   "metadata": {
    "deletable": false,
    "editable": false
   },
   "outputs": [],
   "source": [
    "plot(IBOV, type = \"l\", ylim = c(0,50), xlab = \"Tempo\", ylab = \"Valores\")\n",
    "lines(TELE, col = \"red\")"
   ]
  },
  {
   "cell_type": "markdown",
   "metadata": {
    "deletable": false,
    "editable": false
   },
   "source": [
    "a) Obtenha o gráfico de dispersão para essas duas variáveis."
   ]
  },
  {
   "cell_type": "code",
   "execution_count": null,
   "metadata": {},
   "outputs": [],
   "source": []
  },
  {
   "cell_type": "markdown",
   "metadata": {
    "deletable": false,
    "editable": false
   },
   "source": [
    "b) Obtenha o coeficiente de correlação."
   ]
  },
  {
   "cell_type": "code",
   "execution_count": null,
   "metadata": {},
   "outputs": [],
   "source": []
  },
  {
   "cell_type": "markdown",
   "metadata": {
    "deletable": false,
    "editable": false
   },
   "source": [
    "### Exercício 6\n",
    "Os dados a seguir apresentam o preço (**P**) em dólares e as características de 30 carros vendidos no Brasil em março de 1999. **Fonte**: Folha de São Paulo - 14/03/1999. As características são as seguintes:\n",
    "\n",
    "* **C**: comprimento em metros;\n",
    "* **M**: potência do motor em cv;\n",
    "* **O**: origem, onde \"I\" significa importado e \"N\" nacional."
   ]
  },
  {
   "cell_type": "code",
   "execution_count": null,
   "metadata": {
    "deletable": false,
    "editable": false
   },
   "outputs": [],
   "source": [
    "dados5 = read.table(\"ex414pg94.csv\", header = TRUE, sep = \";\", dec = \",\")\n",
    "attach(dados5)\n",
    "dados5"
   ]
  },
  {
   "cell_type": "markdown",
   "metadata": {
    "deletable": false,
    "editable": false
   },
   "source": [
    "a) Obtenha o coeficiente de correlação entre as variáveis **Comprimento** e **Preço**."
   ]
  },
  {
   "cell_type": "code",
   "execution_count": null,
   "metadata": {},
   "outputs": [],
   "source": []
  },
  {
   "cell_type": "markdown",
   "metadata": {
    "deletable": false,
    "editable": false
   },
   "source": [
    "b) O gráfico a seguir apresenta o diagrama de dispersão para as variáveis **Comprimento** e **Peso**, restrito aos valores da variável **Origem** (em verde o veículo é nacional e em vermelho é importado). Que informação você pode tirar dessa representação?"
   ]
  },
  {
   "cell_type": "code",
   "execution_count": null,
   "metadata": {
    "deletable": false,
    "editable": false
   },
   "outputs": [],
   "source": [
    "indI = which(O == \"I\") # linhas da tabela onde os carros são importados\n",
    "indN = which(O == \"N\") # linhas da tabela onde os carros são nacionais\n",
    "plot(C[indI], P[indI], xlim = c(3,5), ylim = c(0,40000), pch = 16, col = \"red\")\n",
    "points(C[indN], P[indN], pch = 8, col = \"green\")"
   ]
  },
  {
   "cell_type": "markdown",
   "metadata": {
    "deletable": false,
    "editable": false
   },
   "source": [
    "## Teste qui-quadrado de Pearson para associação entre variáveis qualitativas\n",
    "\n",
    "Podemos obter a distribuição conjunta ou a **tabela de contingência** de duas variáveis qualitativas utilizando o comando ```table()```. Considere novamente os dados da tabela 2.1. Vamos obter a tabela de contingência para as variáveis **região de procedência** e **grau de instrução**. Execute a célula a seguir:"
   ]
  },
  {
   "cell_type": "code",
   "execution_count": null,
   "metadata": {
    "deletable": false,
    "editable": false
   },
   "outputs": [],
   "source": [
    "table(reg_procedencia, grau_instrucao)"
   ]
  },
  {
   "cell_type": "markdown",
   "metadata": {
    "deletable": false,
    "editable": false
   },
   "source": [
    "A tabela a seguir fornece as proporções com respeito aos totais por coluna. Execute a célula a seguir:"
   ]
  },
  {
   "cell_type": "code",
   "execution_count": null,
   "metadata": {
    "deletable": false,
    "editable": false
   },
   "outputs": [],
   "source": [
    "round(prop.table(table(reg_procedencia, grau_instrucao), margin = 2),2)"
   ]
  },
  {
   "cell_type": "markdown",
   "metadata": {
    "deletable": false,
    "editable": false
   },
   "source": [
    "Se as variáveis fossem independentes, as proporções em cada linha da tabela tinham que ser aproximadamente iguais. Isso não parece ser o caso neste exemplo, mas isso pode ser obra do acaso.\n",
    "\n",
    "O teste **Qui-quadrado de Pearson** para independência estabele com hipótese nula que as variáveis em estudo são **independentes**.\n",
    "\n",
    "Tal teste é conduzido no R por meio da função ```chisq.test()```, cujos argumentos são as variáveis sendo testadas ou uma matriz com os valores da tabela de contingência para essas variáveis."
   ]
  },
  {
   "cell_type": "code",
   "execution_count": null,
   "metadata": {
    "deletable": false,
    "editable": false
   },
   "outputs": [],
   "source": [
    "chisq.test(reg_procedencia, grau_instrucao)"
   ]
  },
  {
   "cell_type": "markdown",
   "metadata": {
    "deletable": false,
    "editable": false
   },
   "source": [
    "Note que o p-valor está muito próximo de 1, ou seja, a tabela de contingência observada é consistente com a hipótese de independência. Portanto, não há evidências contra a tal hipótese, ou seja, as variáveis **regiao de procedência** e **grau de instrução** não estão associadas.\n",
    "\n",
    "Suponha que os dados referentes à essas duas variáveis não estão disponíveis. Apenas a tabela de contingência está. Podemos utilizar a função ```chisq.test()``` como segue:"
   ]
  },
  {
   "cell_type": "code",
   "execution_count": null,
   "metadata": {
    "deletable": false,
    "editable": false
   },
   "outputs": [],
   "source": [
    "M = matrix(c(4,5,2,3,7,2,5,6,2), 3, 3, byrow = TRUE) # criando a matriz com as frequências da tabela de contingência\n",
    "M"
   ]
  },
  {
   "cell_type": "code",
   "execution_count": null,
   "metadata": {
    "deletable": false,
    "editable": false
   },
   "outputs": [],
   "source": [
    "chisq.test(M) # conduzindo o teste (mesmo resultado)"
   ]
  },
  {
   "cell_type": "markdown",
   "metadata": {
    "deletable": false,
    "editable": false
   },
   "source": [
    "### Exercício 7\n",
    "Para os dados do exercício 4, qual o grau de associabilidade entre o conceito do gerente e a zona a que o vendendor foi designado?"
   ]
  },
  {
   "cell_type": "code",
   "execution_count": null,
   "metadata": {},
   "outputs": [],
   "source": []
  }
 ],
 "metadata": {
  "kernelspec": {
   "display_name": "R",
   "language": "R",
   "name": "ir"
  },
  "language_info": {
   "codemirror_mode": "r",
   "file_extension": ".r",
   "mimetype": "text/x-r-source",
   "name": "R",
   "pygments_lexer": "r",
   "version": "3.6.1"
  }
 },
 "nbformat": 4,
 "nbformat_minor": 4
}
