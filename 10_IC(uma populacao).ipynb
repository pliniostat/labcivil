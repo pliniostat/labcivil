{
 "cells": [
  {
   "cell_type": "markdown",
   "id": "specified-memorabilia",
   "metadata": {},
   "source": [
    "**1)** Uma amostra aleatória de 10 válvulas eletrônicas foi testada e os tempos de vida (em horas) foram:\n",
    "\n",
    "$2100 \\ \\  2150 \\ \\  2200 \\ \\  2130 \\ \\  2180 \\ \\  2120 \\ \\  2180 \\ \\  2100 \\ \\  2130 \\ \\  2160$\n",
    "\n",
    "Estimar o tempo médio de vida desse tipo de válvula por meio de um intervalo de confiança de 90%. Suponha que o tempo de vida $X$ nesse estudo tenha distribuição aproximadamente normal."
   ]
  },
  {
   "cell_type": "code",
   "execution_count": null,
   "id": "potential-forwarding",
   "metadata": {},
   "outputs": [],
   "source": []
  },
  {
   "cell_type": "code",
   "execution_count": null,
   "id": "tight-vehicle",
   "metadata": {},
   "outputs": [],
   "source": []
  },
  {
   "cell_type": "code",
   "execution_count": null,
   "id": "another-words",
   "metadata": {},
   "outputs": [],
   "source": []
  },
  {
   "cell_type": "code",
   "execution_count": null,
   "id": "answering-battery",
   "metadata": {},
   "outputs": [],
   "source": []
  },
  {
   "cell_type": "markdown",
   "id": "hourly-benchmark",
   "metadata": {},
   "source": [
    "**2)** Em uma fábrica, uma amostra de parafusos foi obtida e seus diâmetros (em mm) anotados:\n",
    "\n",
    "$10  \\ \\ 13 \\ \\ 14 \\ \\  11 \\ \\  13 \\ \\  14 \\ \\  11 \\ \\  13 \\ \\  14 \\ \\  15 \\\\\n",
    "12  \\ \\ 14 \\ \\  15 \\ \\  13 \\ \\  14 \\ \\  12 \\ \\  12 \\ \\  11 \\ \\  15 \\ \\  16 \\\\\n",
    "13  \\ \\ 15 \\ \\  14 \\ \\  14 \\ \\  15 \\ \\  15 \\ \\  16 \\ \\  12 \\ \\  10 \\ \\  15$\n",
    "\n",
    "Supondo que os diâmetros possam ser modelados pela distribuição normal. Obtenha um intervalo de confiança com nível de 99% para a variabilidade produzida pelo processo de fabricação no diâmetro dos parafusos.\n"
   ]
  },
  {
   "cell_type": "code",
   "execution_count": 25,
   "id": "indie-soviet",
   "metadata": {},
   "outputs": [],
   "source": [
    "x = c(10,13,14,11,13,14,11,13,14,15,12,14,15,13,14,12,12,11,15,16,13,15,14,14,15,15,16,12,10,15)"
   ]
  },
  {
   "cell_type": "code",
   "execution_count": null,
   "id": "fossil-composite",
   "metadata": {},
   "outputs": [],
   "source": []
  },
  {
   "cell_type": "code",
   "execution_count": null,
   "id": "norwegian-communist",
   "metadata": {},
   "outputs": [],
   "source": []
  },
  {
   "cell_type": "code",
   "execution_count": null,
   "id": "remarkable-italic",
   "metadata": {},
   "outputs": [],
   "source": []
  },
  {
   "cell_type": "markdown",
   "id": "hollywood-course",
   "metadata": {},
   "source": [
    "**3)** Um fabricante de um certo aparelho eletrônico usa um conjunto amplo de testes para avaliar as funções elétricas do produto. Todos os aparelhos devem passar por todos os testes antes de serem vendidos. Uma amostra aleatória de 500 aparelhos resulta em 15 reprovados em um ou mais testes. Determine um intervalo de confiança de 90% para a proporção de aparelhos que passam em todos os testes."
   ]
  },
  {
   "cell_type": "code",
   "execution_count": null,
   "id": "arranged-ability",
   "metadata": {},
   "outputs": [],
   "source": []
  },
  {
   "cell_type": "code",
   "execution_count": null,
   "id": "answering-senior",
   "metadata": {},
   "outputs": [],
   "source": []
  },
  {
   "cell_type": "code",
   "execution_count": null,
   "id": "younger-dance",
   "metadata": {},
   "outputs": [],
   "source": []
  },
  {
   "cell_type": "code",
   "execution_count": null,
   "id": "residential-tourist",
   "metadata": {},
   "outputs": [],
   "source": []
  },
  {
   "cell_type": "code",
   "execution_count": null,
   "id": "comfortable-catalyst",
   "metadata": {},
   "outputs": [],
   "source": []
  }
 ],
 "metadata": {
  "kernelspec": {
   "display_name": "R",
   "language": "R",
   "name": "ir"
  },
  "language_info": {
   "codemirror_mode": "r",
   "file_extension": ".r",
   "mimetype": "text/x-r-source",
   "name": "R",
   "pygments_lexer": "r",
   "version": "3.6.1"
  }
 },
 "nbformat": 4,
 "nbformat_minor": 5
}
