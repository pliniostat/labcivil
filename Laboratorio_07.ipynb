{
 "cells": [
  {
   "cell_type": "markdown",
   "metadata": {
    "deletable": false,
    "editable": false
   },
   "source": [
    "<a href=\"http://www.unioeste.br\"><img src=\"https://www5.unioeste.br/portalunioeste/templates/tlpcampus/images/logoUnioeste.png\" align=\"right\"></a>\n",
    "\n",
    "<h1><center>Atividade Prática em R - Distribuição Hipergeométrica</center></h1>\n",
    "\n",
    "<center>Prof.Dr. Plinio Andrade</center>\n",
    "\n",
    "### Nesta atividade prática você irá:\n",
    "\n",
    "* Conhecer a distribuição hipergeométrica para v.a.'s discretas;\n",
    "* Utilizar o R para calcular probabilidades e quantis associados à essa distribuição;\n",
    "* Simular dados dessa distribuição.\n",
    "\n",
    "<b> <font color='red'>ATENÇÃO!</font></b> sempre que este notebook for reaberto você deverá executar todas as células de código novamente. Cada célula **ativa** é executada pressionando o botão <b>Run</b> no menu da parte superior da tela, ou teclando <b>Ctrl+Enter</b>. Caso esteja utilizando um smartphone ou tablet, cada célula terá um botão ao lado para ser executada. Persistindo dúvidas, assista novamente o video de apresentação sobre notebooks.\n",
    "\n",
    "## 1) Introdução\n",
    "\n",
    "Suponha que temos uma população finita que pode ser dividida em dois grupos segundo duas características de interesse, digamos A e B, e que vamos sortear de maneira independente $k$ elementos dessa população sem reposição. Vamos assumir que $m$ elementos da população possuem a característica A e $n$ possuem a característica B, de modo que $m+n$ seja o tamanho total da população.\n",
    "\n",
    "Nosso interesse está na variável que conta o número de elementos com a característica A dentre os $k$ sorteados.\n",
    "\n",
    "## 2) Distribuição Hipergeométrica\n",
    "\n",
    "Seja $X$ a v.a. que define o experimento descrito na Introdução. Dizemos que $X$ possui **distribuição hipergeométrica de parâmetros $m$, $n$ e $k$**. Notação: $X\\sim Hip(m,n.k)$.\n",
    "\n",
    "### 2.1) Função de probabilidade\n",
    "\n",
    "A função de probabilidade (f.p.) de $X$ será dada por:\n",
    "\n",
    "$$\\mathbb{P}(X=x)=\\frac{\\left(\\begin{array}{c} m \\\\ x \\end{array}\\right)\\left(\\begin{array}{c} n \\\\ k-x \\end{array}\\right)}{\\left(\\begin{array}{c} m+n \\\\ k \\end{array}\\right)}, \\ \\ \\ \\ \\mbox{para} \\ \\ x=0,1,2,\\ldots,\\mbox{mín}(m,k).$$\n",
    "\n",
    "Observe que essa f.p. é construída utilizando o mesmo raciocínio apresentado em aula. Neste caso, a cardinalidade do espaço amostral é igual a $\\left(\\begin{array}{c} m+n \\\\ k \\end{array}\\right)$, que corresponde aos sorteios sem nenhuma restrição. O número de casos possíveis é obtido pelo princípio multiplicativo, observando que para ter $x$ elementos com a característica A, devemos sorteá-los dentre os $m$ elementos da população com essa característica. Isso será feito de $\\left(\\begin{array}{c} m \\\\ x \\end{array}\\right)$ maneiras. De forma análoga, sorteamos os $k-x$ elementos restantes dentre os $n$ elementos da população com a característica B, e isso será feito de $\\left(\\begin{array}{c} n \\\\ k-x \\end{array}\\right)$ maneiras diferentes.\n",
    "\n",
    "Vale notar que enquanto a distribuição Binomial leva em conta ensaios cujos elementos da população são sorteados com reposição, no modelo hipergeométrico esses sorteios são feitos sem reposição.  \n",
    "\n",
    "### 2.2) Esperança e variância\n",
    "\n",
    "Para uma v.a. $X\\sim Hip(m,n,k)$, temos que\n",
    "\n",
    "$$\\mathbb{E}(X)=\\frac{km}{m+n} \\ \\ \\ \\ \\ \\mbox{e} \\ \\ \\ \\ \\ \\mbox{Var}(X)=\\frac{kmn}{(m+n)^2}\\left(\\frac{m+n-k}{m+n-1}\\right).$$\n",
    "\n",
    "### 2.3) Exemplo (Controle de qualidade)\n",
    "\n",
    "Suponha que uma determinada fábrica produza um determinado item. Em problemas de controle de qualidade, podemos relacionar a característica A com o fato do item ser defeituoso e a característica B com o fato do item ser perfeito. Nesses caso, lotes com $N$ itens são examinados e o número $m$ de itens com defeito é desconhecido. As probabilidades de interesse são estimadas coletando uma amostra de $k$ itens e determinando $x$. Para ilustrar, suponha que num lote de $100$ itens, $10$ sejam defeituosos. Logo, temos que $m=10$, $n=90$ ($N=m+n=100$).\n",
    "\n",
    "Se $5$ itens forem sorteados sem reposição, temos que a v.a. $X$ que denota o número de itens defeituosos dentre os $5$ sorteados é tal que $X\\sim Hip(10,90,5)$. Assim, a probabilidade de não observar nenhum item defeituoso é\n",
    "\n",
    "$$\\mathbb{P}(X=0)=\\frac{\\left(\\begin{array}{c} 10 \\\\ 0 \\end{array}\\right)\\left(\\begin{array}{c} 90 \\\\ 5 \\end{array}\\right)}{\\left(\\begin{array}{c} 100 \\\\ 5 \\end{array}\\right)}\\approx 0,5838.$$\n",
    "\n",
    "Essa probabilidade pode ser calculada no R por meio da função ```dhyper(x,m,n,k)```. Execute a célula abaixo:"
   ]
  },
  {
   "cell_type": "code",
   "execution_count": null,
   "metadata": {
    "deletable": false,
    "editable": false
   },
   "outputs": [],
   "source": [
    "dhyper(0,10,90,5)"
   ]
  },
  {
   "cell_type": "markdown",
   "metadata": {
    "deletable": false,
    "editable": false
   },
   "source": [
    "Deseja-se saber qual a probabilidade de se obter pelo menos um item defeituoso. Neste caso, queremos calcular\n",
    "\n",
    "$$\\mathbb{P}(X\\geq 1)=1-\\mathbb{P}(X< 1)=1-\\mathbb{P}(X\\leq 0)\\approx 0,4162.$$\n",
    "\n",
    "Essa probabilidade pode ser calculada utilizando a função ```phyper(x,m,n,k)``` que fornece a f.d.a. de uma v.a. $X\\sim Hip(m,n,k)$. Execute a célula a seguir para realizar esse cálculo:"
   ]
  },
  {
   "cell_type": "code",
   "execution_count": null,
   "metadata": {
    "deletable": false,
    "editable": false
   },
   "outputs": [],
   "source": [
    "1-phyper(0,10,90,5)"
   ]
  },
  {
   "cell_type": "markdown",
   "metadata": {
    "deletable": false,
    "editable": false
   },
   "source": [
    "Um quantil de ordem $0<\\alpha<1$ da distribuição hipergeométrica (veja a definição no Laboratorio_05) pode ser calculado no R por meio da função ```qhyper(p,m,n,k)```. Para os valores do exemplo anterior, vamos obter o quantil de ordem $\\alpha=0,95$ de $X$. Execute a célula a seguir para obter a resposta:"
   ]
  },
  {
   "cell_type": "code",
   "execution_count": null,
   "metadata": {
    "deletable": false,
    "editable": false
   },
   "outputs": [],
   "source": [
    "qhyper(0.95,10,90,5)"
   ]
  },
  {
   "cell_type": "markdown",
   "metadata": {
    "deletable": false,
    "editable": false
   },
   "source": [
    "### 2.4) Simulação\n",
    "\n",
    "Para simular dados de uma população hipergeométrica, utilizamos a função ```rhyper(num,m,n,k)```, em que ```num``` é o tamanho da amostra a ser gerada e ```m,n,k``` são os parâmetros da distribuição. Por exemplo, a célula a seguir simula $10$ valores da distribuição hipergeométrica do exemplo anterior. Execute a célula a seguir:"
   ]
  },
  {
   "cell_type": "code",
   "execution_count": null,
   "metadata": {
    "deletable": false,
    "editable": false
   },
   "outputs": [],
   "source": [
    "rhyper(10,10,90,5)"
   ]
  },
  {
   "cell_type": "markdown",
   "metadata": {
    "deletable": false,
    "editable": false
   },
   "source": [
    "***\n",
    "## Parabéns, você concluiu esta atividade prática!\n",
    "\n",
    "<b> <font color='red'>ATENÇÃO! Sugiro imprimir o conteúdo deste notebook para enventuais consultas futuras, pois assim que o navegador for fechado os códigos serão apagados. Para imprimir, tecle Ctrl+P e salve como um arquivo PDF.</font></b>"
   ]
  }
 ],
 "metadata": {
  "kernelspec": {
   "display_name": "R",
   "language": "R",
   "name": "ir"
  },
  "language_info": {
   "codemirror_mode": "r",
   "file_extension": ".r",
   "mimetype": "text/x-r-source",
   "name": "R",
   "pygments_lexer": "r",
   "version": "3.6.1"
  }
 },
 "nbformat": 4,
 "nbformat_minor": 4
}
